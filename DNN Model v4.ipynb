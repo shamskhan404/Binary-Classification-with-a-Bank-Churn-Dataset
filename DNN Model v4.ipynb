{
 "cells": [
  {
   "cell_type": "code",
   "execution_count": 1,
   "id": "6e6adaf2",
   "metadata": {
    "_cell_guid": "b1076dfc-b9ad-4769-8c92-a6c4dae69d19",
    "_uuid": "8f2839f25d086af736a60e9eeb907d3b93b6e0e5",
    "execution": {
     "iopub.execute_input": "2024-07-15T19:37:28.546054Z",
     "iopub.status.busy": "2024-07-15T19:37:28.545392Z",
     "iopub.status.idle": "2024-07-15T19:37:29.359445Z",
     "shell.execute_reply": "2024-07-15T19:37:29.358434Z"
    },
    "papermill": {
     "duration": 0.825399,
     "end_time": "2024-07-15T19:37:29.361626",
     "exception": false,
     "start_time": "2024-07-15T19:37:28.536227",
     "status": "completed"
    },
    "tags": []
   },
   "outputs": [],
   "source": [
    "import numpy as np # linear algebra\n",
    "import pandas as pd # data processing"
   ]
  },
  {
   "cell_type": "code",
   "execution_count": 2,
   "id": "45a32a32",
   "metadata": {
    "execution": {
     "iopub.execute_input": "2024-07-15T19:37:29.377824Z",
     "iopub.status.busy": "2024-07-15T19:37:29.377467Z",
     "iopub.status.idle": "2024-07-15T19:37:29.804116Z",
     "shell.execute_reply": "2024-07-15T19:37:29.803342Z"
    },
    "papermill": {
     "duration": 0.437149,
     "end_time": "2024-07-15T19:37:29.806350",
     "exception": false,
     "start_time": "2024-07-15T19:37:29.369201",
     "status": "completed"
    },
    "tags": []
   },
   "outputs": [
    {
     "data": {
      "text/html": [
       "<div>\n",
       "<style scoped>\n",
       "    .dataframe tbody tr th:only-of-type {\n",
       "        vertical-align: middle;\n",
       "    }\n",
       "\n",
       "    .dataframe tbody tr th {\n",
       "        vertical-align: top;\n",
       "    }\n",
       "\n",
       "    .dataframe thead th {\n",
       "        text-align: right;\n",
       "    }\n",
       "</style>\n",
       "<table border=\"1\" class=\"dataframe\">\n",
       "  <thead>\n",
       "    <tr style=\"text-align: right;\">\n",
       "      <th></th>\n",
       "      <th>id</th>\n",
       "      <th>CustomerId</th>\n",
       "      <th>Surname</th>\n",
       "      <th>CreditScore</th>\n",
       "      <th>Geography</th>\n",
       "      <th>Gender</th>\n",
       "      <th>Age</th>\n",
       "      <th>Tenure</th>\n",
       "      <th>Balance</th>\n",
       "      <th>NumOfProducts</th>\n",
       "      <th>HasCrCard</th>\n",
       "      <th>IsActiveMember</th>\n",
       "      <th>EstimatedSalary</th>\n",
       "      <th>Exited</th>\n",
       "    </tr>\n",
       "  </thead>\n",
       "  <tbody>\n",
       "    <tr>\n",
       "      <th>0</th>\n",
       "      <td>0</td>\n",
       "      <td>15674932</td>\n",
       "      <td>Okwudilichukwu</td>\n",
       "      <td>668</td>\n",
       "      <td>France</td>\n",
       "      <td>Male</td>\n",
       "      <td>33.0</td>\n",
       "      <td>3</td>\n",
       "      <td>0.00</td>\n",
       "      <td>2</td>\n",
       "      <td>1.0</td>\n",
       "      <td>0.0</td>\n",
       "      <td>181449.97</td>\n",
       "      <td>0</td>\n",
       "    </tr>\n",
       "    <tr>\n",
       "      <th>1</th>\n",
       "      <td>1</td>\n",
       "      <td>15749177</td>\n",
       "      <td>Okwudiliolisa</td>\n",
       "      <td>627</td>\n",
       "      <td>France</td>\n",
       "      <td>Male</td>\n",
       "      <td>33.0</td>\n",
       "      <td>1</td>\n",
       "      <td>0.00</td>\n",
       "      <td>2</td>\n",
       "      <td>1.0</td>\n",
       "      <td>1.0</td>\n",
       "      <td>49503.50</td>\n",
       "      <td>0</td>\n",
       "    </tr>\n",
       "    <tr>\n",
       "      <th>2</th>\n",
       "      <td>2</td>\n",
       "      <td>15694510</td>\n",
       "      <td>Hsueh</td>\n",
       "      <td>678</td>\n",
       "      <td>France</td>\n",
       "      <td>Male</td>\n",
       "      <td>40.0</td>\n",
       "      <td>10</td>\n",
       "      <td>0.00</td>\n",
       "      <td>2</td>\n",
       "      <td>1.0</td>\n",
       "      <td>0.0</td>\n",
       "      <td>184866.69</td>\n",
       "      <td>0</td>\n",
       "    </tr>\n",
       "    <tr>\n",
       "      <th>3</th>\n",
       "      <td>3</td>\n",
       "      <td>15741417</td>\n",
       "      <td>Kao</td>\n",
       "      <td>581</td>\n",
       "      <td>France</td>\n",
       "      <td>Male</td>\n",
       "      <td>34.0</td>\n",
       "      <td>2</td>\n",
       "      <td>148882.54</td>\n",
       "      <td>1</td>\n",
       "      <td>1.0</td>\n",
       "      <td>1.0</td>\n",
       "      <td>84560.88</td>\n",
       "      <td>0</td>\n",
       "    </tr>\n",
       "    <tr>\n",
       "      <th>4</th>\n",
       "      <td>4</td>\n",
       "      <td>15766172</td>\n",
       "      <td>Chiemenam</td>\n",
       "      <td>716</td>\n",
       "      <td>Spain</td>\n",
       "      <td>Male</td>\n",
       "      <td>33.0</td>\n",
       "      <td>5</td>\n",
       "      <td>0.00</td>\n",
       "      <td>2</td>\n",
       "      <td>1.0</td>\n",
       "      <td>1.0</td>\n",
       "      <td>15068.83</td>\n",
       "      <td>0</td>\n",
       "    </tr>\n",
       "  </tbody>\n",
       "</table>\n",
       "</div>"
      ],
      "text/plain": [
       "   id  CustomerId         Surname  CreditScore Geography Gender   Age  Tenure  \\\n",
       "0   0    15674932  Okwudilichukwu          668    France   Male  33.0       3   \n",
       "1   1    15749177   Okwudiliolisa          627    France   Male  33.0       1   \n",
       "2   2    15694510           Hsueh          678    France   Male  40.0      10   \n",
       "3   3    15741417             Kao          581    France   Male  34.0       2   \n",
       "4   4    15766172       Chiemenam          716     Spain   Male  33.0       5   \n",
       "\n",
       "     Balance  NumOfProducts  HasCrCard  IsActiveMember  EstimatedSalary  \\\n",
       "0       0.00              2        1.0             0.0        181449.97   \n",
       "1       0.00              2        1.0             1.0         49503.50   \n",
       "2       0.00              2        1.0             0.0        184866.69   \n",
       "3  148882.54              1        1.0             1.0         84560.88   \n",
       "4       0.00              2        1.0             1.0         15068.83   \n",
       "\n",
       "   Exited  \n",
       "0       0  \n",
       "1       0  \n",
       "2       0  \n",
       "3       0  \n",
       "4       0  "
      ]
     },
     "execution_count": 2,
     "metadata": {},
     "output_type": "execute_result"
    }
   ],
   "source": [
    "train = pd.read_csv('train.csv')\n",
    "train.head()"
   ]
  },
  {
   "cell_type": "code",
   "execution_count": 3,
   "id": "fbc7e68e",
   "metadata": {
    "execution": {
     "iopub.execute_input": "2024-07-15T19:37:29.822534Z",
     "iopub.status.busy": "2024-07-15T19:37:29.822237Z",
     "iopub.status.idle": "2024-07-15T19:37:30.065126Z",
     "shell.execute_reply": "2024-07-15T19:37:30.064367Z"
    },
    "papermill": {
     "duration": 0.253516,
     "end_time": "2024-07-15T19:37:30.067496",
     "exception": false,
     "start_time": "2024-07-15T19:37:29.813980",
     "status": "completed"
    },
    "tags": []
   },
   "outputs": [
    {
     "data": {
      "text/html": [
       "<div>\n",
       "<style scoped>\n",
       "    .dataframe tbody tr th:only-of-type {\n",
       "        vertical-align: middle;\n",
       "    }\n",
       "\n",
       "    .dataframe tbody tr th {\n",
       "        vertical-align: top;\n",
       "    }\n",
       "\n",
       "    .dataframe thead th {\n",
       "        text-align: right;\n",
       "    }\n",
       "</style>\n",
       "<table border=\"1\" class=\"dataframe\">\n",
       "  <thead>\n",
       "    <tr style=\"text-align: right;\">\n",
       "      <th></th>\n",
       "      <th>id</th>\n",
       "      <th>CustomerId</th>\n",
       "      <th>Surname</th>\n",
       "      <th>CreditScore</th>\n",
       "      <th>Geography</th>\n",
       "      <th>Gender</th>\n",
       "      <th>Age</th>\n",
       "      <th>Tenure</th>\n",
       "      <th>Balance</th>\n",
       "      <th>NumOfProducts</th>\n",
       "      <th>HasCrCard</th>\n",
       "      <th>IsActiveMember</th>\n",
       "      <th>EstimatedSalary</th>\n",
       "    </tr>\n",
       "  </thead>\n",
       "  <tbody>\n",
       "    <tr>\n",
       "      <th>0</th>\n",
       "      <td>165034</td>\n",
       "      <td>15773898</td>\n",
       "      <td>Lucchese</td>\n",
       "      <td>586</td>\n",
       "      <td>France</td>\n",
       "      <td>Female</td>\n",
       "      <td>23.0</td>\n",
       "      <td>2</td>\n",
       "      <td>0.00</td>\n",
       "      <td>2</td>\n",
       "      <td>0.0</td>\n",
       "      <td>1.0</td>\n",
       "      <td>160976.75</td>\n",
       "    </tr>\n",
       "    <tr>\n",
       "      <th>1</th>\n",
       "      <td>165035</td>\n",
       "      <td>15782418</td>\n",
       "      <td>Nott</td>\n",
       "      <td>683</td>\n",
       "      <td>France</td>\n",
       "      <td>Female</td>\n",
       "      <td>46.0</td>\n",
       "      <td>2</td>\n",
       "      <td>0.00</td>\n",
       "      <td>1</td>\n",
       "      <td>1.0</td>\n",
       "      <td>0.0</td>\n",
       "      <td>72549.27</td>\n",
       "    </tr>\n",
       "    <tr>\n",
       "      <th>2</th>\n",
       "      <td>165036</td>\n",
       "      <td>15807120</td>\n",
       "      <td>K?</td>\n",
       "      <td>656</td>\n",
       "      <td>France</td>\n",
       "      <td>Female</td>\n",
       "      <td>34.0</td>\n",
       "      <td>7</td>\n",
       "      <td>0.00</td>\n",
       "      <td>2</td>\n",
       "      <td>1.0</td>\n",
       "      <td>0.0</td>\n",
       "      <td>138882.09</td>\n",
       "    </tr>\n",
       "    <tr>\n",
       "      <th>3</th>\n",
       "      <td>165037</td>\n",
       "      <td>15808905</td>\n",
       "      <td>O'Donnell</td>\n",
       "      <td>681</td>\n",
       "      <td>France</td>\n",
       "      <td>Male</td>\n",
       "      <td>36.0</td>\n",
       "      <td>8</td>\n",
       "      <td>0.00</td>\n",
       "      <td>1</td>\n",
       "      <td>1.0</td>\n",
       "      <td>0.0</td>\n",
       "      <td>113931.57</td>\n",
       "    </tr>\n",
       "    <tr>\n",
       "      <th>4</th>\n",
       "      <td>165038</td>\n",
       "      <td>15607314</td>\n",
       "      <td>Higgins</td>\n",
       "      <td>752</td>\n",
       "      <td>Germany</td>\n",
       "      <td>Male</td>\n",
       "      <td>38.0</td>\n",
       "      <td>10</td>\n",
       "      <td>121263.62</td>\n",
       "      <td>1</td>\n",
       "      <td>1.0</td>\n",
       "      <td>0.0</td>\n",
       "      <td>139431.00</td>\n",
       "    </tr>\n",
       "  </tbody>\n",
       "</table>\n",
       "</div>"
      ],
      "text/plain": [
       "       id  CustomerId    Surname  CreditScore Geography  Gender   Age  Tenure  \\\n",
       "0  165034    15773898   Lucchese          586    France  Female  23.0       2   \n",
       "1  165035    15782418       Nott          683    France  Female  46.0       2   \n",
       "2  165036    15807120         K?          656    France  Female  34.0       7   \n",
       "3  165037    15808905  O'Donnell          681    France    Male  36.0       8   \n",
       "4  165038    15607314    Higgins          752   Germany    Male  38.0      10   \n",
       "\n",
       "     Balance  NumOfProducts  HasCrCard  IsActiveMember  EstimatedSalary  \n",
       "0       0.00              2        0.0             1.0        160976.75  \n",
       "1       0.00              1        1.0             0.0         72549.27  \n",
       "2       0.00              2        1.0             0.0        138882.09  \n",
       "3       0.00              1        1.0             0.0        113931.57  \n",
       "4  121263.62              1        1.0             0.0        139431.00  "
      ]
     },
     "execution_count": 3,
     "metadata": {},
     "output_type": "execute_result"
    }
   ],
   "source": [
    "test = pd.read_csv('test.csv')\n",
    "test.head()"
   ]
  },
  {
   "cell_type": "markdown",
   "id": "22776122",
   "metadata": {
    "papermill": {
     "duration": 0.007901,
     "end_time": "2024-07-15T19:37:30.162537",
     "exception": false,
     "start_time": "2024-07-15T19:37:30.154636",
     "status": "completed"
    },
    "tags": []
   },
   "source": [
    "> # **x and y**"
   ]
  },
  {
   "cell_type": "code",
   "execution_count": 4,
   "id": "f370387a",
   "metadata": {
    "execution": {
     "iopub.execute_input": "2024-07-15T19:37:30.179265Z",
     "iopub.status.busy": "2024-07-15T19:37:30.179007Z",
     "iopub.status.idle": "2024-07-15T19:37:30.201210Z",
     "shell.execute_reply": "2024-07-15T19:37:30.200366Z"
    },
    "papermill": {
     "duration": 0.032663,
     "end_time": "2024-07-15T19:37:30.203158",
     "exception": false,
     "start_time": "2024-07-15T19:37:30.170495",
     "status": "completed"
    },
    "tags": []
   },
   "outputs": [
    {
     "data": {
      "text/html": [
       "<div>\n",
       "<style scoped>\n",
       "    .dataframe tbody tr th:only-of-type {\n",
       "        vertical-align: middle;\n",
       "    }\n",
       "\n",
       "    .dataframe tbody tr th {\n",
       "        vertical-align: top;\n",
       "    }\n",
       "\n",
       "    .dataframe thead th {\n",
       "        text-align: right;\n",
       "    }\n",
       "</style>\n",
       "<table border=\"1\" class=\"dataframe\">\n",
       "  <thead>\n",
       "    <tr style=\"text-align: right;\">\n",
       "      <th></th>\n",
       "      <th>CreditScore</th>\n",
       "      <th>Geography</th>\n",
       "      <th>Gender</th>\n",
       "      <th>Age</th>\n",
       "      <th>Tenure</th>\n",
       "      <th>Balance</th>\n",
       "      <th>NumOfProducts</th>\n",
       "      <th>HasCrCard</th>\n",
       "      <th>IsActiveMember</th>\n",
       "      <th>EstimatedSalary</th>\n",
       "    </tr>\n",
       "  </thead>\n",
       "  <tbody>\n",
       "    <tr>\n",
       "      <th>0</th>\n",
       "      <td>668</td>\n",
       "      <td>France</td>\n",
       "      <td>Male</td>\n",
       "      <td>33.0</td>\n",
       "      <td>3</td>\n",
       "      <td>0.00</td>\n",
       "      <td>2</td>\n",
       "      <td>1.0</td>\n",
       "      <td>0.0</td>\n",
       "      <td>181449.97</td>\n",
       "    </tr>\n",
       "    <tr>\n",
       "      <th>1</th>\n",
       "      <td>627</td>\n",
       "      <td>France</td>\n",
       "      <td>Male</td>\n",
       "      <td>33.0</td>\n",
       "      <td>1</td>\n",
       "      <td>0.00</td>\n",
       "      <td>2</td>\n",
       "      <td>1.0</td>\n",
       "      <td>1.0</td>\n",
       "      <td>49503.50</td>\n",
       "    </tr>\n",
       "    <tr>\n",
       "      <th>2</th>\n",
       "      <td>678</td>\n",
       "      <td>France</td>\n",
       "      <td>Male</td>\n",
       "      <td>40.0</td>\n",
       "      <td>10</td>\n",
       "      <td>0.00</td>\n",
       "      <td>2</td>\n",
       "      <td>1.0</td>\n",
       "      <td>0.0</td>\n",
       "      <td>184866.69</td>\n",
       "    </tr>\n",
       "    <tr>\n",
       "      <th>3</th>\n",
       "      <td>581</td>\n",
       "      <td>France</td>\n",
       "      <td>Male</td>\n",
       "      <td>34.0</td>\n",
       "      <td>2</td>\n",
       "      <td>148882.54</td>\n",
       "      <td>1</td>\n",
       "      <td>1.0</td>\n",
       "      <td>1.0</td>\n",
       "      <td>84560.88</td>\n",
       "    </tr>\n",
       "    <tr>\n",
       "      <th>4</th>\n",
       "      <td>716</td>\n",
       "      <td>Spain</td>\n",
       "      <td>Male</td>\n",
       "      <td>33.0</td>\n",
       "      <td>5</td>\n",
       "      <td>0.00</td>\n",
       "      <td>2</td>\n",
       "      <td>1.0</td>\n",
       "      <td>1.0</td>\n",
       "      <td>15068.83</td>\n",
       "    </tr>\n",
       "  </tbody>\n",
       "</table>\n",
       "</div>"
      ],
      "text/plain": [
       "   CreditScore Geography Gender   Age  Tenure    Balance  NumOfProducts  \\\n",
       "0          668    France   Male  33.0       3       0.00              2   \n",
       "1          627    France   Male  33.0       1       0.00              2   \n",
       "2          678    France   Male  40.0      10       0.00              2   \n",
       "3          581    France   Male  34.0       2  148882.54              1   \n",
       "4          716     Spain   Male  33.0       5       0.00              2   \n",
       "\n",
       "   HasCrCard  IsActiveMember  EstimatedSalary  \n",
       "0        1.0             0.0        181449.97  \n",
       "1        1.0             1.0         49503.50  \n",
       "2        1.0             0.0        184866.69  \n",
       "3        1.0             1.0         84560.88  \n",
       "4        1.0             1.0         15068.83  "
      ]
     },
     "execution_count": 4,
     "metadata": {},
     "output_type": "execute_result"
    }
   ],
   "source": [
    "x = train.iloc[:,3:-1]\n",
    "x.head()"
   ]
  },
  {
   "cell_type": "code",
   "execution_count": 5,
   "id": "798edc10",
   "metadata": {
    "execution": {
     "iopub.execute_input": "2024-07-15T19:37:30.220872Z",
     "iopub.status.busy": "2024-07-15T19:37:30.220638Z",
     "iopub.status.idle": "2024-07-15T19:37:30.286775Z",
     "shell.execute_reply": "2024-07-15T19:37:30.285886Z"
    },
    "papermill": {
     "duration": 0.076902,
     "end_time": "2024-07-15T19:37:30.288900",
     "exception": false,
     "start_time": "2024-07-15T19:37:30.211998",
     "status": "completed"
    },
    "tags": []
   },
   "outputs": [
    {
     "data": {
      "text/html": [
       "<div>\n",
       "<style scoped>\n",
       "    .dataframe tbody tr th:only-of-type {\n",
       "        vertical-align: middle;\n",
       "    }\n",
       "\n",
       "    .dataframe tbody tr th {\n",
       "        vertical-align: top;\n",
       "    }\n",
       "\n",
       "    .dataframe thead th {\n",
       "        text-align: right;\n",
       "    }\n",
       "</style>\n",
       "<table border=\"1\" class=\"dataframe\">\n",
       "  <thead>\n",
       "    <tr style=\"text-align: right;\">\n",
       "      <th></th>\n",
       "      <th>CreditScore</th>\n",
       "      <th>Age</th>\n",
       "      <th>Tenure</th>\n",
       "      <th>Balance</th>\n",
       "      <th>NumOfProducts</th>\n",
       "      <th>HasCrCard</th>\n",
       "      <th>IsActiveMember</th>\n",
       "      <th>EstimatedSalary</th>\n",
       "    </tr>\n",
       "  </thead>\n",
       "  <tbody>\n",
       "    <tr>\n",
       "      <th>count</th>\n",
       "      <td>165034.000000</td>\n",
       "      <td>165034.000000</td>\n",
       "      <td>165034.000000</td>\n",
       "      <td>165034.000000</td>\n",
       "      <td>165034.000000</td>\n",
       "      <td>165034.000000</td>\n",
       "      <td>165034.000000</td>\n",
       "      <td>165034.000000</td>\n",
       "    </tr>\n",
       "    <tr>\n",
       "      <th>mean</th>\n",
       "      <td>656.454373</td>\n",
       "      <td>38.125888</td>\n",
       "      <td>5.020353</td>\n",
       "      <td>55478.086689</td>\n",
       "      <td>1.554455</td>\n",
       "      <td>0.753954</td>\n",
       "      <td>0.497770</td>\n",
       "      <td>112574.822734</td>\n",
       "    </tr>\n",
       "    <tr>\n",
       "      <th>std</th>\n",
       "      <td>80.103340</td>\n",
       "      <td>8.867205</td>\n",
       "      <td>2.806159</td>\n",
       "      <td>62817.663278</td>\n",
       "      <td>0.547154</td>\n",
       "      <td>0.430707</td>\n",
       "      <td>0.499997</td>\n",
       "      <td>50292.865585</td>\n",
       "    </tr>\n",
       "    <tr>\n",
       "      <th>min</th>\n",
       "      <td>350.000000</td>\n",
       "      <td>18.000000</td>\n",
       "      <td>0.000000</td>\n",
       "      <td>0.000000</td>\n",
       "      <td>1.000000</td>\n",
       "      <td>0.000000</td>\n",
       "      <td>0.000000</td>\n",
       "      <td>11.580000</td>\n",
       "    </tr>\n",
       "    <tr>\n",
       "      <th>25%</th>\n",
       "      <td>597.000000</td>\n",
       "      <td>32.000000</td>\n",
       "      <td>3.000000</td>\n",
       "      <td>0.000000</td>\n",
       "      <td>1.000000</td>\n",
       "      <td>1.000000</td>\n",
       "      <td>0.000000</td>\n",
       "      <td>74637.570000</td>\n",
       "    </tr>\n",
       "    <tr>\n",
       "      <th>50%</th>\n",
       "      <td>659.000000</td>\n",
       "      <td>37.000000</td>\n",
       "      <td>5.000000</td>\n",
       "      <td>0.000000</td>\n",
       "      <td>2.000000</td>\n",
       "      <td>1.000000</td>\n",
       "      <td>0.000000</td>\n",
       "      <td>117948.000000</td>\n",
       "    </tr>\n",
       "    <tr>\n",
       "      <th>75%</th>\n",
       "      <td>710.000000</td>\n",
       "      <td>42.000000</td>\n",
       "      <td>7.000000</td>\n",
       "      <td>119939.517500</td>\n",
       "      <td>2.000000</td>\n",
       "      <td>1.000000</td>\n",
       "      <td>1.000000</td>\n",
       "      <td>155152.467500</td>\n",
       "    </tr>\n",
       "    <tr>\n",
       "      <th>max</th>\n",
       "      <td>850.000000</td>\n",
       "      <td>92.000000</td>\n",
       "      <td>10.000000</td>\n",
       "      <td>250898.090000</td>\n",
       "      <td>4.000000</td>\n",
       "      <td>1.000000</td>\n",
       "      <td>1.000000</td>\n",
       "      <td>199992.480000</td>\n",
       "    </tr>\n",
       "  </tbody>\n",
       "</table>\n",
       "</div>"
      ],
      "text/plain": [
       "         CreditScore            Age         Tenure        Balance  \\\n",
       "count  165034.000000  165034.000000  165034.000000  165034.000000   \n",
       "mean      656.454373      38.125888       5.020353   55478.086689   \n",
       "std        80.103340       8.867205       2.806159   62817.663278   \n",
       "min       350.000000      18.000000       0.000000       0.000000   \n",
       "25%       597.000000      32.000000       3.000000       0.000000   \n",
       "50%       659.000000      37.000000       5.000000       0.000000   \n",
       "75%       710.000000      42.000000       7.000000  119939.517500   \n",
       "max       850.000000      92.000000      10.000000  250898.090000   \n",
       "\n",
       "       NumOfProducts      HasCrCard  IsActiveMember  EstimatedSalary  \n",
       "count  165034.000000  165034.000000   165034.000000    165034.000000  \n",
       "mean        1.554455       0.753954        0.497770    112574.822734  \n",
       "std         0.547154       0.430707        0.499997     50292.865585  \n",
       "min         1.000000       0.000000        0.000000        11.580000  \n",
       "25%         1.000000       1.000000        0.000000     74637.570000  \n",
       "50%         2.000000       1.000000        0.000000    117948.000000  \n",
       "75%         2.000000       1.000000        1.000000    155152.467500  \n",
       "max         4.000000       1.000000        1.000000    199992.480000  "
      ]
     },
     "execution_count": 5,
     "metadata": {},
     "output_type": "execute_result"
    }
   ],
   "source": [
    "x.describe()"
   ]
  },
  {
   "cell_type": "code",
   "execution_count": 6,
   "id": "7cbe4654",
   "metadata": {
    "execution": {
     "iopub.execute_input": "2024-07-15T19:37:30.307462Z",
     "iopub.status.busy": "2024-07-15T19:37:30.306991Z",
     "iopub.status.idle": "2024-07-15T19:37:30.339403Z",
     "shell.execute_reply": "2024-07-15T19:37:30.338561Z"
    },
    "papermill": {
     "duration": 0.043928,
     "end_time": "2024-07-15T19:37:30.341702",
     "exception": false,
     "start_time": "2024-07-15T19:37:30.297774",
     "status": "completed"
    },
    "tags": []
   },
   "outputs": [
    {
     "data": {
      "text/plain": [
       "Geography\n",
       "France     94215\n",
       "Spain      36213\n",
       "Germany    34606\n",
       "Name: count, dtype: int64"
      ]
     },
     "execution_count": 6,
     "metadata": {},
     "output_type": "execute_result"
    }
   ],
   "source": [
    "x['Geography'].value_counts()"
   ]
  },
  {
   "cell_type": "code",
   "execution_count": 7,
   "id": "a153acd1",
   "metadata": {
    "execution": {
     "iopub.execute_input": "2024-07-15T19:37:30.360814Z",
     "iopub.status.busy": "2024-07-15T19:37:30.360574Z",
     "iopub.status.idle": "2024-07-15T19:37:30.366843Z",
     "shell.execute_reply": "2024-07-15T19:37:30.366054Z"
    },
    "papermill": {
     "duration": 0.017815,
     "end_time": "2024-07-15T19:37:30.368818",
     "exception": false,
     "start_time": "2024-07-15T19:37:30.351003",
     "status": "completed"
    },
    "tags": []
   },
   "outputs": [
    {
     "data": {
      "text/plain": [
       "0    0\n",
       "1    0\n",
       "2    0\n",
       "3    0\n",
       "4    0\n",
       "Name: Exited, dtype: int64"
      ]
     },
     "execution_count": 7,
     "metadata": {},
     "output_type": "execute_result"
    }
   ],
   "source": [
    "y = train.iloc[:,-1]\n",
    "y.head()"
   ]
  },
  {
   "cell_type": "markdown",
   "id": "35b94716",
   "metadata": {
    "papermill": {
     "duration": 0.008276,
     "end_time": "2024-07-15T19:37:30.385858",
     "exception": false,
     "start_time": "2024-07-15T19:37:30.377582",
     "status": "completed"
    },
    "tags": []
   },
   "source": [
    "> # **Preprocessing**"
   ]
  },
  {
   "cell_type": "code",
   "execution_count": 9,
   "id": "d5c4daa2",
   "metadata": {
    "execution": {
     "iopub.execute_input": "2024-07-15T19:37:30.404130Z",
     "iopub.status.busy": "2024-07-15T19:37:30.403672Z",
     "iopub.status.idle": "2024-07-15T19:37:31.359818Z",
     "shell.execute_reply": "2024-07-15T19:37:31.359074Z"
    },
    "papermill": {
     "duration": 0.967874,
     "end_time": "2024-07-15T19:37:31.362225",
     "exception": false,
     "start_time": "2024-07-15T19:37:30.394351",
     "status": "completed"
    },
    "tags": []
   },
   "outputs": [],
   "source": [
    "from sklearn.preprocessing import StandardScaler, OneHotEncoder, OrdinalEncoder\n",
    "from sklearn.compose import ColumnTransformer"
   ]
  },
  {
   "cell_type": "code",
   "execution_count": 10,
   "id": "1bc1ce51",
   "metadata": {
    "execution": {
     "iopub.execute_input": "2024-07-15T19:37:31.381167Z",
     "iopub.status.busy": "2024-07-15T19:37:31.380847Z",
     "iopub.status.idle": "2024-07-15T19:37:31.385763Z",
     "shell.execute_reply": "2024-07-15T19:37:31.384926Z"
    },
    "papermill": {
     "duration": 0.016196,
     "end_time": "2024-07-15T19:37:31.387583",
     "exception": false,
     "start_time": "2024-07-15T19:37:31.371387",
     "status": "completed"
    },
    "tags": []
   },
   "outputs": [],
   "source": [
    "column_transformer = ColumnTransformer(\n",
    "    transformers=[\n",
    "        ('ord_en', OrdinalEncoder(), ['Gender']),\n",
    "        ('One_hot_en', OneHotEncoder(), ['Geography']),\n",
    "        ('std_scl', StandardScaler(), ['Balance']),\n",
    "        ('Std_scl',StandardScaler(), ['EstimatedSalary'])\n",
    "    ],remainder='passthrough')"
   ]
  },
  {
   "cell_type": "code",
   "execution_count": 11,
   "id": "c37a21c7",
   "metadata": {
    "execution": {
     "iopub.execute_input": "2024-07-15T19:37:31.405644Z",
     "iopub.status.busy": "2024-07-15T19:37:31.405356Z",
     "iopub.status.idle": "2024-07-15T19:37:31.559112Z",
     "shell.execute_reply": "2024-07-15T19:37:31.558205Z"
    },
    "papermill": {
     "duration": 0.165208,
     "end_time": "2024-07-15T19:37:31.561316",
     "exception": false,
     "start_time": "2024-07-15T19:37:31.396108",
     "status": "completed"
    },
    "tags": []
   },
   "outputs": [
    {
     "data": {
      "text/html": [
       "<div>\n",
       "<style scoped>\n",
       "    .dataframe tbody tr th:only-of-type {\n",
       "        vertical-align: middle;\n",
       "    }\n",
       "\n",
       "    .dataframe tbody tr th {\n",
       "        vertical-align: top;\n",
       "    }\n",
       "\n",
       "    .dataframe thead th {\n",
       "        text-align: right;\n",
       "    }\n",
       "</style>\n",
       "<table border=\"1\" class=\"dataframe\">\n",
       "  <thead>\n",
       "    <tr style=\"text-align: right;\">\n",
       "      <th></th>\n",
       "      <th>Gender</th>\n",
       "      <th>Geography_France</th>\n",
       "      <th>Geography_Germany</th>\n",
       "      <th>Geography_Spain</th>\n",
       "      <th>Balance</th>\n",
       "      <th>EstimatedSalary</th>\n",
       "      <th>CreditScore</th>\n",
       "      <th>Age</th>\n",
       "      <th>Tenure</th>\n",
       "      <th>NumOfProducts</th>\n",
       "      <th>HasCrCard</th>\n",
       "      <th>IsActiveMember</th>\n",
       "    </tr>\n",
       "  </thead>\n",
       "  <tbody>\n",
       "    <tr>\n",
       "      <th>0</th>\n",
       "      <td>1.0</td>\n",
       "      <td>1.0</td>\n",
       "      <td>0.0</td>\n",
       "      <td>0.0</td>\n",
       "      <td>-0.883163</td>\n",
       "      <td>1.369486</td>\n",
       "      <td>668.0</td>\n",
       "      <td>33.0</td>\n",
       "      <td>3.0</td>\n",
       "      <td>2.0</td>\n",
       "      <td>1.0</td>\n",
       "      <td>0.0</td>\n",
       "    </tr>\n",
       "    <tr>\n",
       "      <th>1</th>\n",
       "      <td>1.0</td>\n",
       "      <td>1.0</td>\n",
       "      <td>0.0</td>\n",
       "      <td>0.0</td>\n",
       "      <td>-0.883163</td>\n",
       "      <td>-1.254085</td>\n",
       "      <td>627.0</td>\n",
       "      <td>33.0</td>\n",
       "      <td>1.0</td>\n",
       "      <td>2.0</td>\n",
       "      <td>1.0</td>\n",
       "      <td>1.0</td>\n",
       "    </tr>\n",
       "    <tr>\n",
       "      <th>2</th>\n",
       "      <td>1.0</td>\n",
       "      <td>1.0</td>\n",
       "      <td>0.0</td>\n",
       "      <td>0.0</td>\n",
       "      <td>-0.883163</td>\n",
       "      <td>1.437422</td>\n",
       "      <td>678.0</td>\n",
       "      <td>40.0</td>\n",
       "      <td>10.0</td>\n",
       "      <td>2.0</td>\n",
       "      <td>1.0</td>\n",
       "      <td>0.0</td>\n",
       "    </tr>\n",
       "    <tr>\n",
       "      <th>3</th>\n",
       "      <td>1.0</td>\n",
       "      <td>1.0</td>\n",
       "      <td>0.0</td>\n",
       "      <td>0.0</td>\n",
       "      <td>1.486918</td>\n",
       "      <td>-0.557018</td>\n",
       "      <td>581.0</td>\n",
       "      <td>34.0</td>\n",
       "      <td>2.0</td>\n",
       "      <td>1.0</td>\n",
       "      <td>1.0</td>\n",
       "      <td>1.0</td>\n",
       "    </tr>\n",
       "    <tr>\n",
       "      <th>4</th>\n",
       "      <td>1.0</td>\n",
       "      <td>0.0</td>\n",
       "      <td>0.0</td>\n",
       "      <td>1.0</td>\n",
       "      <td>-0.883163</td>\n",
       "      <td>-1.938770</td>\n",
       "      <td>716.0</td>\n",
       "      <td>33.0</td>\n",
       "      <td>5.0</td>\n",
       "      <td>2.0</td>\n",
       "      <td>1.0</td>\n",
       "      <td>1.0</td>\n",
       "    </tr>\n",
       "  </tbody>\n",
       "</table>\n",
       "</div>"
      ],
      "text/plain": [
       "   Gender  Geography_France  Geography_Germany  Geography_Spain   Balance  \\\n",
       "0     1.0               1.0                0.0              0.0 -0.883163   \n",
       "1     1.0               1.0                0.0              0.0 -0.883163   \n",
       "2     1.0               1.0                0.0              0.0 -0.883163   \n",
       "3     1.0               1.0                0.0              0.0  1.486918   \n",
       "4     1.0               0.0                0.0              1.0 -0.883163   \n",
       "\n",
       "   EstimatedSalary  CreditScore   Age  Tenure  NumOfProducts  HasCrCard  \\\n",
       "0         1.369486        668.0  33.0     3.0            2.0        1.0   \n",
       "1        -1.254085        627.0  33.0     1.0            2.0        1.0   \n",
       "2         1.437422        678.0  40.0    10.0            2.0        1.0   \n",
       "3        -0.557018        581.0  34.0     2.0            1.0        1.0   \n",
       "4        -1.938770        716.0  33.0     5.0            2.0        1.0   \n",
       "\n",
       "   IsActiveMember  \n",
       "0             0.0  \n",
       "1             1.0  \n",
       "2             0.0  \n",
       "3             1.0  \n",
       "4             1.0  "
      ]
     },
     "execution_count": 11,
     "metadata": {},
     "output_type": "execute_result"
    }
   ],
   "source": [
    "x_trf = column_transformer.fit_transform(x)\n",
    "one_hot_columns = column_transformer.named_transformers_['One_hot_en'].get_feature_names_out(['Geography'])\n",
    "\n",
    "# Combine all column names\n",
    "column_names = ['Gender'] + list(one_hot_columns) + ['Balance', 'EstimatedSalary'] +  ['CreditScore', 'Age', 'Tenure', 'NumOfProducts', 'HasCrCard', 'IsActiveMember']\n",
    "\n",
    "# Convert the transformed data to a DataFrame\n",
    "x_trf= pd.DataFrame(x_trf, columns=column_names)\n",
    "\n",
    "x_trf.head()"
   ]
  },
  {
   "cell_type": "code",
   "execution_count": 12,
   "id": "9ecef838",
   "metadata": {
    "execution": {
     "iopub.execute_input": "2024-07-15T19:37:31.580641Z",
     "iopub.status.busy": "2024-07-15T19:37:31.580364Z",
     "iopub.status.idle": "2024-07-15T19:37:31.674762Z",
     "shell.execute_reply": "2024-07-15T19:37:31.673863Z"
    },
    "papermill": {
     "duration": 0.106161,
     "end_time": "2024-07-15T19:37:31.676734",
     "exception": false,
     "start_time": "2024-07-15T19:37:31.570573",
     "status": "completed"
    },
    "tags": []
   },
   "outputs": [
    {
     "data": {
      "text/html": [
       "<div>\n",
       "<style scoped>\n",
       "    .dataframe tbody tr th:only-of-type {\n",
       "        vertical-align: middle;\n",
       "    }\n",
       "\n",
       "    .dataframe tbody tr th {\n",
       "        vertical-align: top;\n",
       "    }\n",
       "\n",
       "    .dataframe thead th {\n",
       "        text-align: right;\n",
       "    }\n",
       "</style>\n",
       "<table border=\"1\" class=\"dataframe\">\n",
       "  <thead>\n",
       "    <tr style=\"text-align: right;\">\n",
       "      <th></th>\n",
       "      <th>Gender</th>\n",
       "      <th>Geography_France</th>\n",
       "      <th>Geography_Germany</th>\n",
       "      <th>Geography_Spain</th>\n",
       "      <th>Balance</th>\n",
       "      <th>EstimatedSalary</th>\n",
       "      <th>CreditScore</th>\n",
       "      <th>Age</th>\n",
       "      <th>Tenure</th>\n",
       "      <th>NumOfProducts</th>\n",
       "      <th>HasCrCard</th>\n",
       "      <th>IsActiveMember</th>\n",
       "    </tr>\n",
       "  </thead>\n",
       "  <tbody>\n",
       "    <tr>\n",
       "      <th>0</th>\n",
       "      <td>0.0</td>\n",
       "      <td>1.0</td>\n",
       "      <td>0.0</td>\n",
       "      <td>0.0</td>\n",
       "      <td>-0.883163</td>\n",
       "      <td>0.962404</td>\n",
       "      <td>586.0</td>\n",
       "      <td>23.0</td>\n",
       "      <td>2.0</td>\n",
       "      <td>2.0</td>\n",
       "      <td>0.0</td>\n",
       "      <td>1.0</td>\n",
       "    </tr>\n",
       "    <tr>\n",
       "      <th>1</th>\n",
       "      <td>0.0</td>\n",
       "      <td>1.0</td>\n",
       "      <td>0.0</td>\n",
       "      <td>0.0</td>\n",
       "      <td>-0.883163</td>\n",
       "      <td>-0.795852</td>\n",
       "      <td>683.0</td>\n",
       "      <td>46.0</td>\n",
       "      <td>2.0</td>\n",
       "      <td>1.0</td>\n",
       "      <td>1.0</td>\n",
       "      <td>0.0</td>\n",
       "    </tr>\n",
       "    <tr>\n",
       "      <th>2</th>\n",
       "      <td>0.0</td>\n",
       "      <td>1.0</td>\n",
       "      <td>0.0</td>\n",
       "      <td>0.0</td>\n",
       "      <td>-0.883163</td>\n",
       "      <td>0.523083</td>\n",
       "      <td>656.0</td>\n",
       "      <td>34.0</td>\n",
       "      <td>7.0</td>\n",
       "      <td>2.0</td>\n",
       "      <td>1.0</td>\n",
       "      <td>0.0</td>\n",
       "    </tr>\n",
       "    <tr>\n",
       "      <th>3</th>\n",
       "      <td>1.0</td>\n",
       "      <td>1.0</td>\n",
       "      <td>0.0</td>\n",
       "      <td>0.0</td>\n",
       "      <td>-0.883163</td>\n",
       "      <td>0.026977</td>\n",
       "      <td>681.0</td>\n",
       "      <td>36.0</td>\n",
       "      <td>8.0</td>\n",
       "      <td>1.0</td>\n",
       "      <td>1.0</td>\n",
       "      <td>0.0</td>\n",
       "    </tr>\n",
       "    <tr>\n",
       "      <th>4</th>\n",
       "      <td>1.0</td>\n",
       "      <td>0.0</td>\n",
       "      <td>1.0</td>\n",
       "      <td>0.0</td>\n",
       "      <td>1.047249</td>\n",
       "      <td>0.533997</td>\n",
       "      <td>752.0</td>\n",
       "      <td>38.0</td>\n",
       "      <td>10.0</td>\n",
       "      <td>1.0</td>\n",
       "      <td>1.0</td>\n",
       "      <td>0.0</td>\n",
       "    </tr>\n",
       "  </tbody>\n",
       "</table>\n",
       "</div>"
      ],
      "text/plain": [
       "   Gender  Geography_France  Geography_Germany  Geography_Spain   Balance  \\\n",
       "0     0.0               1.0                0.0              0.0 -0.883163   \n",
       "1     0.0               1.0                0.0              0.0 -0.883163   \n",
       "2     0.0               1.0                0.0              0.0 -0.883163   \n",
       "3     1.0               1.0                0.0              0.0 -0.883163   \n",
       "4     1.0               0.0                1.0              0.0  1.047249   \n",
       "\n",
       "   EstimatedSalary  CreditScore   Age  Tenure  NumOfProducts  HasCrCard  \\\n",
       "0         0.962404        586.0  23.0     2.0            2.0        0.0   \n",
       "1        -0.795852        683.0  46.0     2.0            1.0        1.0   \n",
       "2         0.523083        656.0  34.0     7.0            2.0        1.0   \n",
       "3         0.026977        681.0  36.0     8.0            1.0        1.0   \n",
       "4         0.533997        752.0  38.0    10.0            1.0        1.0   \n",
       "\n",
       "   IsActiveMember  \n",
       "0             1.0  \n",
       "1             0.0  \n",
       "2             0.0  \n",
       "3             0.0  \n",
       "4             0.0  "
      ]
     },
     "execution_count": 12,
     "metadata": {},
     "output_type": "execute_result"
    }
   ],
   "source": [
    "test_trf = column_transformer.transform(test)\n",
    "one_hot_columns = column_transformer.named_transformers_['One_hot_en'].get_feature_names_out(['Geography'])\n",
    "\n",
    "# Combine all column names\n",
    "column_names = ['Gender'] + list(one_hot_columns) + ['Balance', 'EstimatedSalary'] +  ['CreditScore', 'Age', 'Tenure', 'NumOfProducts', 'HasCrCard', 'IsActiveMember']\n",
    "\n",
    "# Convert the transformed data to a DataFrame\n",
    "test_trf= pd.DataFrame(test_trf, columns=column_names)\n",
    "\n",
    "test_trf.head()"
   ]
  },
  {
   "cell_type": "code",
   "execution_count": 13,
   "id": "66ae3122",
   "metadata": {
    "execution": {
     "iopub.execute_input": "2024-07-15T19:37:31.697644Z",
     "iopub.status.busy": "2024-07-15T19:37:31.697349Z",
     "iopub.status.idle": "2024-07-15T19:37:31.773718Z",
     "shell.execute_reply": "2024-07-15T19:37:31.773008Z"
    },
    "papermill": {
     "duration": 0.08969,
     "end_time": "2024-07-15T19:37:31.775669",
     "exception": false,
     "start_time": "2024-07-15T19:37:31.685979",
     "status": "completed"
    },
    "tags": []
   },
   "outputs": [
    {
     "data": {
      "text/plain": [
       "(123775,)"
      ]
     },
     "execution_count": 13,
     "metadata": {},
     "output_type": "execute_result"
    }
   ],
   "source": [
    "from sklearn.model_selection import train_test_split\n",
    "x_train,x_test,y_train,y_test = train_test_split(x_trf,y,test_size=0.25,random_state=42)\n",
    "y_train.shape"
   ]
  },
  {
   "cell_type": "code",
   "execution_count": 14,
   "id": "140667f1",
   "metadata": {
    "execution": {
     "iopub.execute_input": "2024-07-15T19:37:31.862676Z",
     "iopub.status.busy": "2024-07-15T19:37:31.862438Z",
     "iopub.status.idle": "2024-07-15T19:37:43.990758Z",
     "shell.execute_reply": "2024-07-15T19:37:43.989861Z"
    },
    "papermill": {
     "duration": 12.14071,
     "end_time": "2024-07-15T19:37:43.992812",
     "exception": false,
     "start_time": "2024-07-15T19:37:31.852102",
     "status": "completed"
    },
    "tags": []
   },
   "outputs": [
    {
     "name": "stderr",
     "output_type": "stream",
     "text": [
      "c:\\Users\\shams\\anaconda3\\envs\\samenv\\Lib\\site-packages\\keras\\src\\layers\\core\\dense.py:87: UserWarning: Do not pass an `input_shape`/`input_dim` argument to a layer. When using Sequential models, prefer using an `Input(shape)` object as the first layer in the model instead.\n",
      "  super().__init__(activity_regularizer=activity_regularizer, **kwargs)\n"
     ]
    },
    {
     "data": {
      "text/html": [
       "<pre style=\"white-space:pre;overflow-x:auto;line-height:normal;font-family:Menlo,'DejaVu Sans Mono',consolas,'Courier New',monospace\"><span style=\"font-weight: bold\">Model: \"sequential\"</span>\n",
       "</pre>\n"
      ],
      "text/plain": [
       "\u001b[1mModel: \"sequential\"\u001b[0m\n"
      ]
     },
     "metadata": {},
     "output_type": "display_data"
    },
    {
     "data": {
      "text/html": [
       "<pre style=\"white-space:pre;overflow-x:auto;line-height:normal;font-family:Menlo,'DejaVu Sans Mono',consolas,'Courier New',monospace\">┏━━━━━━━━━━━━━━━━━━━━━━━━━━━━━━━━━┳━━━━━━━━━━━━━━━━━━━━━━━━┳━━━━━━━━━━━━━━━┓\n",
       "┃<span style=\"font-weight: bold\"> Layer (type)                    </span>┃<span style=\"font-weight: bold\"> Output Shape           </span>┃<span style=\"font-weight: bold\">       Param # </span>┃\n",
       "┡━━━━━━━━━━━━━━━━━━━━━━━━━━━━━━━━━╇━━━━━━━━━━━━━━━━━━━━━━━━╇━━━━━━━━━━━━━━━┩\n",
       "│ dense (<span style=\"color: #0087ff; text-decoration-color: #0087ff\">Dense</span>)                   │ (<span style=\"color: #00d7ff; text-decoration-color: #00d7ff\">None</span>, <span style=\"color: #00af00; text-decoration-color: #00af00\">128</span>)            │         <span style=\"color: #00af00; text-decoration-color: #00af00\">1,664</span> │\n",
       "├─────────────────────────────────┼────────────────────────┼───────────────┤\n",
       "│ dense_1 (<span style=\"color: #0087ff; text-decoration-color: #0087ff\">Dense</span>)                 │ (<span style=\"color: #00d7ff; text-decoration-color: #00d7ff\">None</span>, <span style=\"color: #00af00; text-decoration-color: #00af00\">128</span>)            │        <span style=\"color: #00af00; text-decoration-color: #00af00\">16,512</span> │\n",
       "├─────────────────────────────────┼────────────────────────┼───────────────┤\n",
       "│ dense_2 (<span style=\"color: #0087ff; text-decoration-color: #0087ff\">Dense</span>)                 │ (<span style=\"color: #00d7ff; text-decoration-color: #00d7ff\">None</span>, <span style=\"color: #00af00; text-decoration-color: #00af00\">64</span>)             │         <span style=\"color: #00af00; text-decoration-color: #00af00\">8,256</span> │\n",
       "├─────────────────────────────────┼────────────────────────┼───────────────┤\n",
       "│ dense_3 (<span style=\"color: #0087ff; text-decoration-color: #0087ff\">Dense</span>)                 │ (<span style=\"color: #00d7ff; text-decoration-color: #00d7ff\">None</span>, <span style=\"color: #00af00; text-decoration-color: #00af00\">64</span>)             │         <span style=\"color: #00af00; text-decoration-color: #00af00\">4,160</span> │\n",
       "├─────────────────────────────────┼────────────────────────┼───────────────┤\n",
       "│ dense_4 (<span style=\"color: #0087ff; text-decoration-color: #0087ff\">Dense</span>)                 │ (<span style=\"color: #00d7ff; text-decoration-color: #00d7ff\">None</span>, <span style=\"color: #00af00; text-decoration-color: #00af00\">32</span>)             │         <span style=\"color: #00af00; text-decoration-color: #00af00\">2,080</span> │\n",
       "├─────────────────────────────────┼────────────────────────┼───────────────┤\n",
       "│ dense_5 (<span style=\"color: #0087ff; text-decoration-color: #0087ff\">Dense</span>)                 │ (<span style=\"color: #00d7ff; text-decoration-color: #00d7ff\">None</span>, <span style=\"color: #00af00; text-decoration-color: #00af00\">1</span>)              │            <span style=\"color: #00af00; text-decoration-color: #00af00\">33</span> │\n",
       "└─────────────────────────────────┴────────────────────────┴───────────────┘\n",
       "</pre>\n"
      ],
      "text/plain": [
       "┏━━━━━━━━━━━━━━━━━━━━━━━━━━━━━━━━━┳━━━━━━━━━━━━━━━━━━━━━━━━┳━━━━━━━━━━━━━━━┓\n",
       "┃\u001b[1m \u001b[0m\u001b[1mLayer (type)                   \u001b[0m\u001b[1m \u001b[0m┃\u001b[1m \u001b[0m\u001b[1mOutput Shape          \u001b[0m\u001b[1m \u001b[0m┃\u001b[1m \u001b[0m\u001b[1m      Param #\u001b[0m\u001b[1m \u001b[0m┃\n",
       "┡━━━━━━━━━━━━━━━━━━━━━━━━━━━━━━━━━╇━━━━━━━━━━━━━━━━━━━━━━━━╇━━━━━━━━━━━━━━━┩\n",
       "│ dense (\u001b[38;5;33mDense\u001b[0m)                   │ (\u001b[38;5;45mNone\u001b[0m, \u001b[38;5;34m128\u001b[0m)            │         \u001b[38;5;34m1,664\u001b[0m │\n",
       "├─────────────────────────────────┼────────────────────────┼───────────────┤\n",
       "│ dense_1 (\u001b[38;5;33mDense\u001b[0m)                 │ (\u001b[38;5;45mNone\u001b[0m, \u001b[38;5;34m128\u001b[0m)            │        \u001b[38;5;34m16,512\u001b[0m │\n",
       "├─────────────────────────────────┼────────────────────────┼───────────────┤\n",
       "│ dense_2 (\u001b[38;5;33mDense\u001b[0m)                 │ (\u001b[38;5;45mNone\u001b[0m, \u001b[38;5;34m64\u001b[0m)             │         \u001b[38;5;34m8,256\u001b[0m │\n",
       "├─────────────────────────────────┼────────────────────────┼───────────────┤\n",
       "│ dense_3 (\u001b[38;5;33mDense\u001b[0m)                 │ (\u001b[38;5;45mNone\u001b[0m, \u001b[38;5;34m64\u001b[0m)             │         \u001b[38;5;34m4,160\u001b[0m │\n",
       "├─────────────────────────────────┼────────────────────────┼───────────────┤\n",
       "│ dense_4 (\u001b[38;5;33mDense\u001b[0m)                 │ (\u001b[38;5;45mNone\u001b[0m, \u001b[38;5;34m32\u001b[0m)             │         \u001b[38;5;34m2,080\u001b[0m │\n",
       "├─────────────────────────────────┼────────────────────────┼───────────────┤\n",
       "│ dense_5 (\u001b[38;5;33mDense\u001b[0m)                 │ (\u001b[38;5;45mNone\u001b[0m, \u001b[38;5;34m1\u001b[0m)              │            \u001b[38;5;34m33\u001b[0m │\n",
       "└─────────────────────────────────┴────────────────────────┴───────────────┘\n"
      ]
     },
     "metadata": {},
     "output_type": "display_data"
    },
    {
     "data": {
      "text/html": [
       "<pre style=\"white-space:pre;overflow-x:auto;line-height:normal;font-family:Menlo,'DejaVu Sans Mono',consolas,'Courier New',monospace\"><span style=\"font-weight: bold\"> Total params: </span><span style=\"color: #00af00; text-decoration-color: #00af00\">32,705</span> (127.75 KB)\n",
       "</pre>\n"
      ],
      "text/plain": [
       "\u001b[1m Total params: \u001b[0m\u001b[38;5;34m32,705\u001b[0m (127.75 KB)\n"
      ]
     },
     "metadata": {},
     "output_type": "display_data"
    },
    {
     "data": {
      "text/html": [
       "<pre style=\"white-space:pre;overflow-x:auto;line-height:normal;font-family:Menlo,'DejaVu Sans Mono',consolas,'Courier New',monospace\"><span style=\"font-weight: bold\"> Trainable params: </span><span style=\"color: #00af00; text-decoration-color: #00af00\">32,705</span> (127.75 KB)\n",
       "</pre>\n"
      ],
      "text/plain": [
       "\u001b[1m Trainable params: \u001b[0m\u001b[38;5;34m32,705\u001b[0m (127.75 KB)\n"
      ]
     },
     "metadata": {},
     "output_type": "display_data"
    },
    {
     "data": {
      "text/html": [
       "<pre style=\"white-space:pre;overflow-x:auto;line-height:normal;font-family:Menlo,'DejaVu Sans Mono',consolas,'Courier New',monospace\"><span style=\"font-weight: bold\"> Non-trainable params: </span><span style=\"color: #00af00; text-decoration-color: #00af00\">0</span> (0.00 B)\n",
       "</pre>\n"
      ],
      "text/plain": [
       "\u001b[1m Non-trainable params: \u001b[0m\u001b[38;5;34m0\u001b[0m (0.00 B)\n"
      ]
     },
     "metadata": {},
     "output_type": "display_data"
    }
   ],
   "source": [
    "from tensorflow.keras.models import Sequential\n",
    "from tensorflow.keras.layers import Dense\n",
    "\n",
    "model = Sequential()\n",
    "model.add(Dense(128,input_dim =12, activation='relu'))\n",
    "model.add(Dense(128,activation='relu'))\n",
    "model.add(Dense(64,activation='relu'))\n",
    "model.add(Dense(64,activation='relu'))\n",
    "model.add(Dense(32,activation='relu'))\n",
    "model.add(Dense(1,activation='sigmoid'))\n",
    "\n",
    "model.summary()"
   ]
  },
  {
   "cell_type": "code",
   "execution_count": 15,
   "id": "9189ded3",
   "metadata": {
    "execution": {
     "iopub.execute_input": "2024-07-15T19:37:44.015272Z",
     "iopub.status.busy": "2024-07-15T19:37:44.014766Z",
     "iopub.status.idle": "2024-07-15T19:37:44.030084Z",
     "shell.execute_reply": "2024-07-15T19:37:44.029307Z"
    },
    "papermill": {
     "duration": 0.028575,
     "end_time": "2024-07-15T19:37:44.032012",
     "exception": false,
     "start_time": "2024-07-15T19:37:44.003437",
     "status": "completed"
    },
    "tags": []
   },
   "outputs": [],
   "source": [
    "from tensorflow.keras.optimizers import Adam\n",
    "adam = Adam(learning_rate=0.01)\n",
    "model.compile(loss='binary_crossentropy',optimizer=adam,metrics=['accuracy'])"
   ]
  },
  {
   "cell_type": "code",
   "execution_count": 16,
   "id": "9ea3cdef",
   "metadata": {
    "execution": {
     "iopub.execute_input": "2024-07-15T19:37:44.054004Z",
     "iopub.status.busy": "2024-07-15T19:37:44.053448Z",
     "iopub.status.idle": "2024-07-15T19:37:44.059544Z",
     "shell.execute_reply": "2024-07-15T19:37:44.058869Z"
    },
    "papermill": {
     "duration": 0.018999,
     "end_time": "2024-07-15T19:37:44.061353",
     "exception": false,
     "start_time": "2024-07-15T19:37:44.042354",
     "status": "completed"
    },
    "tags": []
   },
   "outputs": [],
   "source": [
    "from tensorflow.keras.callbacks import EarlyStopping\n",
    "\n",
    "callback = EarlyStopping(\n",
    "    monitor = 'val_loss',\n",
    "    min_delta = 0.00001,\n",
    "    patience =10,\n",
    "    verbose=1,\n",
    "    mode = 'auto',\n",
    "    baseline = None,\n",
    "    restore_best_weights = True\n",
    ")"
   ]
  },
  {
   "cell_type": "code",
   "execution_count": 17,
   "id": "b70f0143",
   "metadata": {
    "execution": {
     "iopub.execute_input": "2024-07-15T19:37:44.083121Z",
     "iopub.status.busy": "2024-07-15T19:37:44.082357Z",
     "iopub.status.idle": "2024-07-15T19:39:38.527481Z",
     "shell.execute_reply": "2024-07-15T19:39:38.526628Z"
    },
    "papermill": {
     "duration": 114.458099,
     "end_time": "2024-07-15T19:39:38.529525",
     "exception": false,
     "start_time": "2024-07-15T19:37:44.071426",
     "status": "completed"
    },
    "tags": []
   },
   "outputs": [
    {
     "name": "stdout",
     "output_type": "stream",
     "text": [
      "Epoch 1/5000\n",
      "\u001b[1m3868/3868\u001b[0m \u001b[32m━━━━━━━━━━━━━━━━━━━━\u001b[0m\u001b[37m\u001b[0m \u001b[1m6s\u001b[0m 1ms/step - accuracy: 0.7906 - loss: 0.7543 - val_accuracy: 0.7838 - val_loss: 0.4624\n",
      "Epoch 2/5000\n",
      "\u001b[1m3868/3868\u001b[0m \u001b[32m━━━━━━━━━━━━━━━━━━━━\u001b[0m\u001b[37m\u001b[0m \u001b[1m5s\u001b[0m 1ms/step - accuracy: 0.8194 - loss: 0.4147 - val_accuracy: 0.8260 - val_loss: 0.4032\n",
      "Epoch 3/5000\n",
      "\u001b[1m3868/3868\u001b[0m \u001b[32m━━━━━━━━━━━━━━━━━━━━\u001b[0m\u001b[37m\u001b[0m \u001b[1m4s\u001b[0m 1ms/step - accuracy: 0.8220 - loss: 0.4131 - val_accuracy: 0.8330 - val_loss: 0.4042\n",
      "Epoch 4/5000\n",
      "\u001b[1m3868/3868\u001b[0m \u001b[32m━━━━━━━━━━━━━━━━━━━━\u001b[0m\u001b[37m\u001b[0m \u001b[1m5s\u001b[0m 1ms/step - accuracy: 0.8214 - loss: 0.4101 - val_accuracy: 0.8322 - val_loss: 0.3942\n",
      "Epoch 5/5000\n",
      "\u001b[1m3868/3868\u001b[0m \u001b[32m━━━━━━━━━━━━━━━━━━━━\u001b[0m\u001b[37m\u001b[0m \u001b[1m5s\u001b[0m 1ms/step - accuracy: 0.8231 - loss: 0.4116 - val_accuracy: 0.8335 - val_loss: 0.3934\n",
      "Epoch 6/5000\n",
      "\u001b[1m3868/3868\u001b[0m \u001b[32m━━━━━━━━━━━━━━━━━━━━\u001b[0m\u001b[37m\u001b[0m \u001b[1m5s\u001b[0m 1ms/step - accuracy: 0.8218 - loss: 0.4091 - val_accuracy: 0.8222 - val_loss: 0.4060\n",
      "Epoch 7/5000\n",
      "\u001b[1m3868/3868\u001b[0m \u001b[32m━━━━━━━━━━━━━━━━━━━━\u001b[0m\u001b[37m\u001b[0m \u001b[1m5s\u001b[0m 1ms/step - accuracy: 0.8226 - loss: 0.4098 - val_accuracy: 0.7935 - val_loss: 0.4186\n",
      "Epoch 8/5000\n",
      "\u001b[1m3868/3868\u001b[0m \u001b[32m━━━━━━━━━━━━━━━━━━━━\u001b[0m\u001b[37m\u001b[0m \u001b[1m5s\u001b[0m 1ms/step - accuracy: 0.8188 - loss: 0.4169 - val_accuracy: 0.8337 - val_loss: 0.3974\n",
      "Epoch 9/5000\n",
      "\u001b[1m3868/3868\u001b[0m \u001b[32m━━━━━━━━━━━━━━━━━━━━\u001b[0m\u001b[37m\u001b[0m \u001b[1m5s\u001b[0m 1ms/step - accuracy: 0.8249 - loss: 0.4091 - val_accuracy: 0.8355 - val_loss: 0.3932\n",
      "Epoch 10/5000\n",
      "\u001b[1m3868/3868\u001b[0m \u001b[32m━━━━━━━━━━━━━━━━━━━━\u001b[0m\u001b[37m\u001b[0m \u001b[1m5s\u001b[0m 1ms/step - accuracy: 0.8254 - loss: 0.4090 - val_accuracy: 0.7911 - val_loss: 0.4283\n",
      "Epoch 11/5000\n",
      "\u001b[1m3868/3868\u001b[0m \u001b[32m━━━━━━━━━━━━━━━━━━━━\u001b[0m\u001b[37m\u001b[0m \u001b[1m5s\u001b[0m 1ms/step - accuracy: 0.8138 - loss: 0.4190 - val_accuracy: 0.8336 - val_loss: 0.4102\n",
      "Epoch 12/5000\n",
      "\u001b[1m3868/3868\u001b[0m \u001b[32m━━━━━━━━━━━━━━━━━━━━\u001b[0m\u001b[37m\u001b[0m \u001b[1m5s\u001b[0m 1ms/step - accuracy: 0.8225 - loss: 0.4106 - val_accuracy: 0.8337 - val_loss: 0.3923\n",
      "Epoch 13/5000\n",
      "\u001b[1m3868/3868\u001b[0m \u001b[32m━━━━━━━━━━━━━━━━━━━━\u001b[0m\u001b[37m\u001b[0m \u001b[1m5s\u001b[0m 1ms/step - accuracy: 0.8201 - loss: 0.4097 - val_accuracy: 0.8216 - val_loss: 0.4015\n",
      "Epoch 14/5000\n",
      "\u001b[1m3868/3868\u001b[0m \u001b[32m━━━━━━━━━━━━━━━━━━━━\u001b[0m\u001b[37m\u001b[0m \u001b[1m5s\u001b[0m 1ms/step - accuracy: 0.8264 - loss: 0.4024 - val_accuracy: 0.8292 - val_loss: 0.3950\n",
      "Epoch 15/5000\n",
      "\u001b[1m3868/3868\u001b[0m \u001b[32m━━━━━━━━━━━━━━━━━━━━\u001b[0m\u001b[37m\u001b[0m \u001b[1m5s\u001b[0m 1ms/step - accuracy: 0.8259 - loss: 0.4035 - val_accuracy: 0.8297 - val_loss: 0.3947\n",
      "Epoch 16/5000\n",
      "\u001b[1m3868/3868\u001b[0m \u001b[32m━━━━━━━━━━━━━━━━━━━━\u001b[0m\u001b[37m\u001b[0m \u001b[1m5s\u001b[0m 1ms/step - accuracy: 0.8213 - loss: 0.4133 - val_accuracy: 0.8339 - val_loss: 0.3920\n",
      "Epoch 17/5000\n",
      "\u001b[1m3868/3868\u001b[0m \u001b[32m━━━━━━━━━━━━━━━━━━━━\u001b[0m\u001b[37m\u001b[0m \u001b[1m5s\u001b[0m 1ms/step - accuracy: 0.8275 - loss: 0.4039 - val_accuracy: 0.8192 - val_loss: 0.4224\n",
      "Epoch 18/5000\n",
      "\u001b[1m3868/3868\u001b[0m \u001b[32m━━━━━━━━━━━━━━━━━━━━\u001b[0m\u001b[37m\u001b[0m \u001b[1m5s\u001b[0m 1ms/step - accuracy: 0.8253 - loss: 0.4029 - val_accuracy: 0.8304 - val_loss: 0.3949\n",
      "Epoch 19/5000\n",
      "\u001b[1m3868/3868\u001b[0m \u001b[32m━━━━━━━━━━━━━━━━━━━━\u001b[0m\u001b[37m\u001b[0m \u001b[1m5s\u001b[0m 1ms/step - accuracy: 0.8288 - loss: 0.4017 - val_accuracy: 0.8290 - val_loss: 0.3979\n",
      "Epoch 20/5000\n",
      "\u001b[1m3868/3868\u001b[0m \u001b[32m━━━━━━━━━━━━━━━━━━━━\u001b[0m\u001b[37m\u001b[0m \u001b[1m5s\u001b[0m 1ms/step - accuracy: 0.8235 - loss: 0.4101 - val_accuracy: 0.8350 - val_loss: 0.3986\n",
      "Epoch 21/5000\n",
      "\u001b[1m3868/3868\u001b[0m \u001b[32m━━━━━━━━━━━━━━━━━━━━\u001b[0m\u001b[37m\u001b[0m \u001b[1m5s\u001b[0m 1ms/step - accuracy: 0.8263 - loss: 0.4037 - val_accuracy: 0.8255 - val_loss: 0.3991\n",
      "Epoch 22/5000\n",
      "\u001b[1m3868/3868\u001b[0m \u001b[32m━━━━━━━━━━━━━━━━━━━━\u001b[0m\u001b[37m\u001b[0m \u001b[1m5s\u001b[0m 1ms/step - accuracy: 0.8282 - loss: 0.4028 - val_accuracy: 0.8355 - val_loss: 0.3931\n",
      "Epoch 23/5000\n",
      "\u001b[1m3868/3868\u001b[0m \u001b[32m━━━━━━━━━━━━━━━━━━━━\u001b[0m\u001b[37m\u001b[0m \u001b[1m5s\u001b[0m 1ms/step - accuracy: 0.8263 - loss: 0.4064 - val_accuracy: 0.8355 - val_loss: 0.3915\n",
      "Epoch 24/5000\n",
      "\u001b[1m3868/3868\u001b[0m \u001b[32m━━━━━━━━━━━━━━━━━━━━\u001b[0m\u001b[37m\u001b[0m \u001b[1m5s\u001b[0m 1ms/step - accuracy: 0.8263 - loss: 0.4041 - val_accuracy: 0.8312 - val_loss: 0.4009\n",
      "Epoch 25/5000\n",
      "\u001b[1m3868/3868\u001b[0m \u001b[32m━━━━━━━━━━━━━━━━━━━━\u001b[0m\u001b[37m\u001b[0m \u001b[1m5s\u001b[0m 1ms/step - accuracy: 0.8241 - loss: 0.4080 - val_accuracy: 0.8294 - val_loss: 0.3989\n",
      "Epoch 26/5000\n",
      "\u001b[1m3868/3868\u001b[0m \u001b[32m━━━━━━━━━━━━━━━━━━━━\u001b[0m\u001b[37m\u001b[0m \u001b[1m5s\u001b[0m 1ms/step - accuracy: 0.8269 - loss: 0.4048 - val_accuracy: 0.8162 - val_loss: 0.4285\n",
      "Epoch 27/5000\n",
      "\u001b[1m3868/3868\u001b[0m \u001b[32m━━━━━━━━━━━━━━━━━━━━\u001b[0m\u001b[37m\u001b[0m \u001b[1m5s\u001b[0m 1ms/step - accuracy: 0.8247 - loss: 0.4231 - val_accuracy: 0.8348 - val_loss: 0.3924\n",
      "Epoch 28/5000\n",
      "\u001b[1m3868/3868\u001b[0m \u001b[32m━━━━━━━━━━━━━━━━━━━━\u001b[0m\u001b[37m\u001b[0m \u001b[1m4s\u001b[0m 1ms/step - accuracy: 0.8266 - loss: 0.4046 - val_accuracy: 0.8322 - val_loss: 0.3971\n",
      "Epoch 29/5000\n",
      "\u001b[1m3868/3868\u001b[0m \u001b[32m━━━━━━━━━━━━━━━━━━━━\u001b[0m\u001b[37m\u001b[0m \u001b[1m5s\u001b[0m 1ms/step - accuracy: 0.8262 - loss: 0.4055 - val_accuracy: 0.8348 - val_loss: 0.3966\n",
      "Epoch 30/5000\n",
      "\u001b[1m3868/3868\u001b[0m \u001b[32m━━━━━━━━━━━━━━━━━━━━\u001b[0m\u001b[37m\u001b[0m \u001b[1m5s\u001b[0m 1ms/step - accuracy: 0.8236 - loss: 0.4150 - val_accuracy: 0.8326 - val_loss: 0.3947\n",
      "Epoch 31/5000\n",
      "\u001b[1m3868/3868\u001b[0m \u001b[32m━━━━━━━━━━━━━━━━━━━━\u001b[0m\u001b[37m\u001b[0m \u001b[1m5s\u001b[0m 1ms/step - accuracy: 0.8274 - loss: 0.4026 - val_accuracy: 0.8241 - val_loss: 0.4177\n",
      "Epoch 32/5000\n",
      "\u001b[1m3868/3868\u001b[0m \u001b[32m━━━━━━━━━━━━━━━━━━━━\u001b[0m\u001b[37m\u001b[0m \u001b[1m5s\u001b[0m 1ms/step - accuracy: 0.8268 - loss: 0.4057 - val_accuracy: 0.8260 - val_loss: 0.4004\n",
      "Epoch 33/5000\n",
      "\u001b[1m3868/3868\u001b[0m \u001b[32m━━━━━━━━━━━━━━━━━━━━\u001b[0m\u001b[37m\u001b[0m \u001b[1m5s\u001b[0m 1ms/step - accuracy: 0.8282 - loss: 0.4051 - val_accuracy: 0.8317 - val_loss: 0.3953\n",
      "Epoch 33: early stopping\n",
      "Restoring model weights from the end of the best epoch: 23.\n"
     ]
    }
   ],
   "source": [
    "history = model.fit(x_train,y_train,epochs=5000,validation_data=(x_test, y_test),callbacks=callback)"
   ]
  },
  {
   "cell_type": "code",
   "execution_count": 18,
   "id": "83f79a39",
   "metadata": {
    "execution": {
     "iopub.execute_input": "2024-07-15T19:39:38.880105Z",
     "iopub.status.busy": "2024-07-15T19:39:38.879364Z",
     "iopub.status.idle": "2024-07-15T19:39:41.723435Z",
     "shell.execute_reply": "2024-07-15T19:39:41.722436Z"
    },
    "papermill": {
     "duration": 2.996931,
     "end_time": "2024-07-15T19:39:41.725834",
     "exception": false,
     "start_time": "2024-07-15T19:39:38.728903",
     "status": "completed"
    },
    "tags": []
   },
   "outputs": [
    {
     "name": "stdout",
     "output_type": "stream",
     "text": [
      "\u001b[1m1290/1290\u001b[0m \u001b[32m━━━━━━━━━━━━━━━━━━━━\u001b[0m\u001b[37m\u001b[0m \u001b[1m1s\u001b[0m 674us/step\n"
     ]
    },
    {
     "data": {
      "text/plain": [
       "0.8355267941540028"
      ]
     },
     "execution_count": 18,
     "metadata": {},
     "output_type": "execute_result"
    }
   ],
   "source": [
    "from sklearn.metrics import accuracy_score\n",
    "y_prob = model.predict(x_test)\n",
    "y_pred = (y_prob > 0.5).astype(int)\n",
    "accuracy_score(y_test,y_pred)"
   ]
  },
  {
   "cell_type": "code",
   "execution_count": 19,
   "id": "cfbc1ec8",
   "metadata": {
    "execution": {
     "iopub.execute_input": "2024-07-15T19:39:42.046221Z",
     "iopub.status.busy": "2024-07-15T19:39:42.045816Z",
     "iopub.status.idle": "2024-07-15T19:39:48.475788Z",
     "shell.execute_reply": "2024-07-15T19:39:48.474683Z"
    },
    "papermill": {
     "duration": 6.591238,
     "end_time": "2024-07-15T19:39:48.478283",
     "exception": false,
     "start_time": "2024-07-15T19:39:41.887045",
     "status": "completed"
    },
    "tags": []
   },
   "outputs": [
    {
     "name": "stdout",
     "output_type": "stream",
     "text": [
      "\u001b[1m3439/3439\u001b[0m \u001b[32m━━━━━━━━━━━━━━━━━━━━\u001b[0m\u001b[37m\u001b[0m \u001b[1m2s\u001b[0m 697us/step\n"
     ]
    }
   ],
   "source": [
    "y_prob = model.predict(test_trf)\n",
    "y_pred = (y_prob > 0.5).astype(int)"
   ]
  },
  {
   "cell_type": "code",
   "execution_count": 20,
   "id": "f3b02eef",
   "metadata": {
    "execution": {
     "iopub.execute_input": "2024-07-15T19:39:48.791575Z",
     "iopub.status.busy": "2024-07-15T19:39:48.791223Z",
     "iopub.status.idle": "2024-07-15T19:39:48.797240Z",
     "shell.execute_reply": "2024-07-15T19:39:48.796380Z"
    },
    "papermill": {
     "duration": 0.163243,
     "end_time": "2024-07-15T19:39:48.799306",
     "exception": false,
     "start_time": "2024-07-15T19:39:48.636063",
     "status": "completed"
    },
    "tags": []
   },
   "outputs": [
    {
     "data": {
      "text/plain": [
       "(110023,)"
      ]
     },
     "execution_count": 20,
     "metadata": {},
     "output_type": "execute_result"
    }
   ],
   "source": [
    "\n",
    "y_pred = y_pred.reshape(-1)\n",
    "y_pred.shape"
   ]
  },
  {
   "cell_type": "code",
   "execution_count": 22,
   "id": "881819f5",
   "metadata": {
    "execution": {
     "iopub.execute_input": "2024-07-15T19:39:49.113907Z",
     "iopub.status.busy": "2024-07-15T19:39:49.113272Z",
     "iopub.status.idle": "2024-07-15T19:39:49.118629Z",
     "shell.execute_reply": "2024-07-15T19:39:49.117751Z"
    },
    "papermill": {
     "duration": 0.165806,
     "end_time": "2024-07-15T19:39:49.120522",
     "exception": false,
     "start_time": "2024-07-15T19:39:48.954716",
     "status": "completed"
    },
    "tags": []
   },
   "outputs": [
    {
     "data": {
      "text/html": [
       "<div>\n",
       "<style scoped>\n",
       "    .dataframe tbody tr th:only-of-type {\n",
       "        vertical-align: middle;\n",
       "    }\n",
       "\n",
       "    .dataframe tbody tr th {\n",
       "        vertical-align: top;\n",
       "    }\n",
       "\n",
       "    .dataframe thead th {\n",
       "        text-align: right;\n",
       "    }\n",
       "</style>\n",
       "<table border=\"1\" class=\"dataframe\">\n",
       "  <thead>\n",
       "    <tr style=\"text-align: right;\">\n",
       "      <th></th>\n",
       "      <th>id</th>\n",
       "      <th>Exited</th>\n",
       "    </tr>\n",
       "  </thead>\n",
       "  <tbody>\n",
       "    <tr>\n",
       "      <th>0</th>\n",
       "      <td>165034</td>\n",
       "      <td>0</td>\n",
       "    </tr>\n",
       "    <tr>\n",
       "      <th>1</th>\n",
       "      <td>165035</td>\n",
       "      <td>1</td>\n",
       "    </tr>\n",
       "    <tr>\n",
       "      <th>2</th>\n",
       "      <td>165036</td>\n",
       "      <td>0</td>\n",
       "    </tr>\n",
       "    <tr>\n",
       "      <th>3</th>\n",
       "      <td>165037</td>\n",
       "      <td>0</td>\n",
       "    </tr>\n",
       "    <tr>\n",
       "      <th>4</th>\n",
       "      <td>165038</td>\n",
       "      <td>0</td>\n",
       "    </tr>\n",
       "  </tbody>\n",
       "</table>\n",
       "</div>"
      ],
      "text/plain": [
       "       id  Exited\n",
       "0  165034       0\n",
       "1  165035       1\n",
       "2  165036       0\n",
       "3  165037       0\n",
       "4  165038       0"
      ]
     },
     "execution_count": 22,
     "metadata": {},
     "output_type": "execute_result"
    }
   ],
   "source": [
    "submission_df = pd.DataFrame({\n",
    "    'id': test['id'],\n",
    "    'Exited': y_pred  \n",
    "})\n",
    "submission_df.head()"
   ]
  },
  {
   "cell_type": "code",
   "execution_count": 23,
   "id": "6b4133e3",
   "metadata": {
    "execution": {
     "iopub.execute_input": "2024-07-15T19:39:49.434522Z",
     "iopub.status.busy": "2024-07-15T19:39:49.434170Z",
     "iopub.status.idle": "2024-07-15T19:39:49.566854Z",
     "shell.execute_reply": "2024-07-15T19:39:49.565907Z"
    },
    "papermill": {
     "duration": 0.290736,
     "end_time": "2024-07-15T19:39:49.569104",
     "exception": false,
     "start_time": "2024-07-15T19:39:49.278368",
     "status": "completed"
    },
    "tags": []
   },
   "outputs": [],
   "source": [
    "submission_df.to_csv('DNN_output.csv', index=False)"
   ]
  }
 ],
 "metadata": {
  "kaggle": {
   "accelerator": "none",
   "dataSources": [
    {
     "databundleVersionId": 7405009,
     "sourceId": 65711,
     "sourceType": "competition"
    }
   ],
   "dockerImageVersionId": 30746,
   "isGpuEnabled": false,
   "isInternetEnabled": true,
   "language": "python",
   "sourceType": "notebook"
  },
  "kernelspec": {
   "display_name": "Python 3",
   "language": "python",
   "name": "python3"
  },
  "language_info": {
   "codemirror_mode": {
    "name": "ipython",
    "version": 3
   },
   "file_extension": ".py",
   "mimetype": "text/x-python",
   "name": "python",
   "nbconvert_exporter": "python",
   "pygments_lexer": "ipython3",
   "version": "3.12.0"
  },
  "papermill": {
   "default_parameters": {},
   "duration": 146.175328,
   "end_time": "2024-07-15T19:39:52.039495",
   "environment_variables": {},
   "exception": null,
   "input_path": "__notebook__.ipynb",
   "output_path": "__notebook__.ipynb",
   "parameters": {},
   "start_time": "2024-07-15T19:37:25.864167",
   "version": "2.5.0"
  }
 },
 "nbformat": 4,
 "nbformat_minor": 5
}
