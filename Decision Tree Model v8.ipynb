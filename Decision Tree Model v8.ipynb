{
 "cells": [
  {
   "cell_type": "code",
   "execution_count": 1,
   "id": "337f5c7a",
   "metadata": {
    "_cell_guid": "b1076dfc-b9ad-4769-8c92-a6c4dae69d19",
    "_uuid": "8f2839f25d086af736a60e9eeb907d3b93b6e0e5",
    "execution": {
     "iopub.execute_input": "2024-07-15T20:41:08.445370Z",
     "iopub.status.busy": "2024-07-15T20:41:08.445012Z",
     "iopub.status.idle": "2024-07-15T20:41:09.279271Z",
     "shell.execute_reply": "2024-07-15T20:41:09.278368Z"
    },
    "papermill": {
     "duration": 0.845759,
     "end_time": "2024-07-15T20:41:09.281954",
     "exception": false,
     "start_time": "2024-07-15T20:41:08.436195",
     "status": "completed"
    },
    "tags": []
   },
   "outputs": [],
   "source": [
    "import numpy as np # linear algebra\n",
    "import pandas as pd # data processing"
   ]
  },
  {
   "cell_type": "code",
   "execution_count": 6,
   "id": "f8b0d459",
   "metadata": {
    "execution": {
     "iopub.execute_input": "2024-07-15T20:41:09.297171Z",
     "iopub.status.busy": "2024-07-15T20:41:09.296759Z",
     "iopub.status.idle": "2024-07-15T20:41:09.812254Z",
     "shell.execute_reply": "2024-07-15T20:41:09.811092Z"
    },
    "papermill": {
     "duration": 0.525813,
     "end_time": "2024-07-15T20:41:09.815107",
     "exception": false,
     "start_time": "2024-07-15T20:41:09.289294",
     "status": "completed"
    },
    "tags": []
   },
   "outputs": [
    {
     "data": {
      "text/html": [
       "<div>\n",
       "<style scoped>\n",
       "    .dataframe tbody tr th:only-of-type {\n",
       "        vertical-align: middle;\n",
       "    }\n",
       "\n",
       "    .dataframe tbody tr th {\n",
       "        vertical-align: top;\n",
       "    }\n",
       "\n",
       "    .dataframe thead th {\n",
       "        text-align: right;\n",
       "    }\n",
       "</style>\n",
       "<table border=\"1\" class=\"dataframe\">\n",
       "  <thead>\n",
       "    <tr style=\"text-align: right;\">\n",
       "      <th></th>\n",
       "      <th>id</th>\n",
       "      <th>CustomerId</th>\n",
       "      <th>Surname</th>\n",
       "      <th>CreditScore</th>\n",
       "      <th>Geography</th>\n",
       "      <th>Gender</th>\n",
       "      <th>Age</th>\n",
       "      <th>Tenure</th>\n",
       "      <th>Balance</th>\n",
       "      <th>NumOfProducts</th>\n",
       "      <th>HasCrCard</th>\n",
       "      <th>IsActiveMember</th>\n",
       "      <th>EstimatedSalary</th>\n",
       "      <th>Exited</th>\n",
       "    </tr>\n",
       "  </thead>\n",
       "  <tbody>\n",
       "    <tr>\n",
       "      <th>0</th>\n",
       "      <td>0</td>\n",
       "      <td>15674932</td>\n",
       "      <td>Okwudilichukwu</td>\n",
       "      <td>668</td>\n",
       "      <td>France</td>\n",
       "      <td>Male</td>\n",
       "      <td>33.0</td>\n",
       "      <td>3</td>\n",
       "      <td>0.00</td>\n",
       "      <td>2</td>\n",
       "      <td>1.0</td>\n",
       "      <td>0.0</td>\n",
       "      <td>181449.97</td>\n",
       "      <td>0</td>\n",
       "    </tr>\n",
       "    <tr>\n",
       "      <th>1</th>\n",
       "      <td>1</td>\n",
       "      <td>15749177</td>\n",
       "      <td>Okwudiliolisa</td>\n",
       "      <td>627</td>\n",
       "      <td>France</td>\n",
       "      <td>Male</td>\n",
       "      <td>33.0</td>\n",
       "      <td>1</td>\n",
       "      <td>0.00</td>\n",
       "      <td>2</td>\n",
       "      <td>1.0</td>\n",
       "      <td>1.0</td>\n",
       "      <td>49503.50</td>\n",
       "      <td>0</td>\n",
       "    </tr>\n",
       "    <tr>\n",
       "      <th>2</th>\n",
       "      <td>2</td>\n",
       "      <td>15694510</td>\n",
       "      <td>Hsueh</td>\n",
       "      <td>678</td>\n",
       "      <td>France</td>\n",
       "      <td>Male</td>\n",
       "      <td>40.0</td>\n",
       "      <td>10</td>\n",
       "      <td>0.00</td>\n",
       "      <td>2</td>\n",
       "      <td>1.0</td>\n",
       "      <td>0.0</td>\n",
       "      <td>184866.69</td>\n",
       "      <td>0</td>\n",
       "    </tr>\n",
       "    <tr>\n",
       "      <th>3</th>\n",
       "      <td>3</td>\n",
       "      <td>15741417</td>\n",
       "      <td>Kao</td>\n",
       "      <td>581</td>\n",
       "      <td>France</td>\n",
       "      <td>Male</td>\n",
       "      <td>34.0</td>\n",
       "      <td>2</td>\n",
       "      <td>148882.54</td>\n",
       "      <td>1</td>\n",
       "      <td>1.0</td>\n",
       "      <td>1.0</td>\n",
       "      <td>84560.88</td>\n",
       "      <td>0</td>\n",
       "    </tr>\n",
       "    <tr>\n",
       "      <th>4</th>\n",
       "      <td>4</td>\n",
       "      <td>15766172</td>\n",
       "      <td>Chiemenam</td>\n",
       "      <td>716</td>\n",
       "      <td>Spain</td>\n",
       "      <td>Male</td>\n",
       "      <td>33.0</td>\n",
       "      <td>5</td>\n",
       "      <td>0.00</td>\n",
       "      <td>2</td>\n",
       "      <td>1.0</td>\n",
       "      <td>1.0</td>\n",
       "      <td>15068.83</td>\n",
       "      <td>0</td>\n",
       "    </tr>\n",
       "  </tbody>\n",
       "</table>\n",
       "</div>"
      ],
      "text/plain": [
       "   id  CustomerId         Surname  CreditScore Geography Gender   Age  Tenure  \\\n",
       "0   0    15674932  Okwudilichukwu          668    France   Male  33.0       3   \n",
       "1   1    15749177   Okwudiliolisa          627    France   Male  33.0       1   \n",
       "2   2    15694510           Hsueh          678    France   Male  40.0      10   \n",
       "3   3    15741417             Kao          581    France   Male  34.0       2   \n",
       "4   4    15766172       Chiemenam          716     Spain   Male  33.0       5   \n",
       "\n",
       "     Balance  NumOfProducts  HasCrCard  IsActiveMember  EstimatedSalary  \\\n",
       "0       0.00              2        1.0             0.0        181449.97   \n",
       "1       0.00              2        1.0             1.0         49503.50   \n",
       "2       0.00              2        1.0             0.0        184866.69   \n",
       "3  148882.54              1        1.0             1.0         84560.88   \n",
       "4       0.00              2        1.0             1.0         15068.83   \n",
       "\n",
       "   Exited  \n",
       "0       0  \n",
       "1       0  \n",
       "2       0  \n",
       "3       0  \n",
       "4       0  "
      ]
     },
     "execution_count": 6,
     "metadata": {},
     "output_type": "execute_result"
    }
   ],
   "source": [
    "train = pd.read_csv('train.csv')\n",
    "train.head()"
   ]
  },
  {
   "cell_type": "code",
   "execution_count": 7,
   "id": "4211b69d",
   "metadata": {
    "execution": {
     "iopub.execute_input": "2024-07-15T20:41:10.147911Z",
     "iopub.status.busy": "2024-07-15T20:41:10.147072Z",
     "iopub.status.idle": "2024-07-15T20:41:10.178072Z",
     "shell.execute_reply": "2024-07-15T20:41:10.176962Z"
    },
    "papermill": {
     "duration": 0.041801,
     "end_time": "2024-07-15T20:41:10.180538",
     "exception": false,
     "start_time": "2024-07-15T20:41:10.138737",
     "status": "completed"
    },
    "tags": []
   },
   "outputs": [
    {
     "data": {
      "text/html": [
       "<div>\n",
       "<style scoped>\n",
       "    .dataframe tbody tr th:only-of-type {\n",
       "        vertical-align: middle;\n",
       "    }\n",
       "\n",
       "    .dataframe tbody tr th {\n",
       "        vertical-align: top;\n",
       "    }\n",
       "\n",
       "    .dataframe thead th {\n",
       "        text-align: right;\n",
       "    }\n",
       "</style>\n",
       "<table border=\"1\" class=\"dataframe\">\n",
       "  <thead>\n",
       "    <tr style=\"text-align: right;\">\n",
       "      <th></th>\n",
       "      <th>id</th>\n",
       "      <th>CustomerId</th>\n",
       "      <th>Surname</th>\n",
       "      <th>CreditScore</th>\n",
       "      <th>Geography</th>\n",
       "      <th>Gender</th>\n",
       "      <th>Age</th>\n",
       "      <th>Tenure</th>\n",
       "      <th>Balance</th>\n",
       "      <th>NumOfProducts</th>\n",
       "      <th>HasCrCard</th>\n",
       "      <th>IsActiveMember</th>\n",
       "      <th>EstimatedSalary</th>\n",
       "    </tr>\n",
       "  </thead>\n",
       "  <tbody>\n",
       "    <tr>\n",
       "      <th>0</th>\n",
       "      <td>165034</td>\n",
       "      <td>15773898</td>\n",
       "      <td>Lucchese</td>\n",
       "      <td>586</td>\n",
       "      <td>France</td>\n",
       "      <td>Female</td>\n",
       "      <td>23.0</td>\n",
       "      <td>2</td>\n",
       "      <td>0.00</td>\n",
       "      <td>2</td>\n",
       "      <td>0.0</td>\n",
       "      <td>1.0</td>\n",
       "      <td>160976.75</td>\n",
       "    </tr>\n",
       "    <tr>\n",
       "      <th>1</th>\n",
       "      <td>165035</td>\n",
       "      <td>15782418</td>\n",
       "      <td>Nott</td>\n",
       "      <td>683</td>\n",
       "      <td>France</td>\n",
       "      <td>Female</td>\n",
       "      <td>46.0</td>\n",
       "      <td>2</td>\n",
       "      <td>0.00</td>\n",
       "      <td>1</td>\n",
       "      <td>1.0</td>\n",
       "      <td>0.0</td>\n",
       "      <td>72549.27</td>\n",
       "    </tr>\n",
       "    <tr>\n",
       "      <th>2</th>\n",
       "      <td>165036</td>\n",
       "      <td>15807120</td>\n",
       "      <td>K?</td>\n",
       "      <td>656</td>\n",
       "      <td>France</td>\n",
       "      <td>Female</td>\n",
       "      <td>34.0</td>\n",
       "      <td>7</td>\n",
       "      <td>0.00</td>\n",
       "      <td>2</td>\n",
       "      <td>1.0</td>\n",
       "      <td>0.0</td>\n",
       "      <td>138882.09</td>\n",
       "    </tr>\n",
       "    <tr>\n",
       "      <th>3</th>\n",
       "      <td>165037</td>\n",
       "      <td>15808905</td>\n",
       "      <td>O'Donnell</td>\n",
       "      <td>681</td>\n",
       "      <td>France</td>\n",
       "      <td>Male</td>\n",
       "      <td>36.0</td>\n",
       "      <td>8</td>\n",
       "      <td>0.00</td>\n",
       "      <td>1</td>\n",
       "      <td>1.0</td>\n",
       "      <td>0.0</td>\n",
       "      <td>113931.57</td>\n",
       "    </tr>\n",
       "    <tr>\n",
       "      <th>4</th>\n",
       "      <td>165038</td>\n",
       "      <td>15607314</td>\n",
       "      <td>Higgins</td>\n",
       "      <td>752</td>\n",
       "      <td>Germany</td>\n",
       "      <td>Male</td>\n",
       "      <td>38.0</td>\n",
       "      <td>10</td>\n",
       "      <td>121263.62</td>\n",
       "      <td>1</td>\n",
       "      <td>1.0</td>\n",
       "      <td>0.0</td>\n",
       "      <td>139431.00</td>\n",
       "    </tr>\n",
       "  </tbody>\n",
       "</table>\n",
       "</div>"
      ],
      "text/plain": [
       "       id  CustomerId    Surname  CreditScore Geography  Gender   Age  Tenure  \\\n",
       "0  165034    15773898   Lucchese          586    France  Female  23.0       2   \n",
       "1  165035    15782418       Nott          683    France  Female  46.0       2   \n",
       "2  165036    15807120         K?          656    France  Female  34.0       7   \n",
       "3  165037    15808905  O'Donnell          681    France    Male  36.0       8   \n",
       "4  165038    15607314    Higgins          752   Germany    Male  38.0      10   \n",
       "\n",
       "     Balance  NumOfProducts  HasCrCard  IsActiveMember  EstimatedSalary  \n",
       "0       0.00              2        0.0             1.0        160976.75  \n",
       "1       0.00              1        1.0             0.0         72549.27  \n",
       "2       0.00              2        1.0             0.0        138882.09  \n",
       "3       0.00              1        1.0             0.0        113931.57  \n",
       "4  121263.62              1        1.0             0.0        139431.00  "
      ]
     },
     "execution_count": 7,
     "metadata": {},
     "output_type": "execute_result"
    }
   ],
   "source": [
    "test = pd.read_csv('test.csv')\n",
    "test.head()"
   ]
  },
  {
   "cell_type": "markdown",
   "id": "e5c6b819",
   "metadata": {
    "papermill": {
     "duration": 0.007031,
     "end_time": "2024-07-15T20:41:10.233728",
     "exception": false,
     "start_time": "2024-07-15T20:41:10.226697",
     "status": "completed"
    },
    "tags": []
   },
   "source": [
    "> # **x and y**"
   ]
  },
  {
   "cell_type": "code",
   "execution_count": 8,
   "id": "faadbfce",
   "metadata": {
    "execution": {
     "iopub.execute_input": "2024-07-15T20:41:10.250823Z",
     "iopub.status.busy": "2024-07-15T20:41:10.250126Z",
     "iopub.status.idle": "2024-07-15T20:41:10.277970Z",
     "shell.execute_reply": "2024-07-15T20:41:10.276905Z"
    },
    "papermill": {
     "duration": 0.039587,
     "end_time": "2024-07-15T20:41:10.280921",
     "exception": false,
     "start_time": "2024-07-15T20:41:10.241334",
     "status": "completed"
    },
    "tags": []
   },
   "outputs": [
    {
     "data": {
      "text/html": [
       "<div>\n",
       "<style scoped>\n",
       "    .dataframe tbody tr th:only-of-type {\n",
       "        vertical-align: middle;\n",
       "    }\n",
       "\n",
       "    .dataframe tbody tr th {\n",
       "        vertical-align: top;\n",
       "    }\n",
       "\n",
       "    .dataframe thead th {\n",
       "        text-align: right;\n",
       "    }\n",
       "</style>\n",
       "<table border=\"1\" class=\"dataframe\">\n",
       "  <thead>\n",
       "    <tr style=\"text-align: right;\">\n",
       "      <th></th>\n",
       "      <th>CreditScore</th>\n",
       "      <th>Geography</th>\n",
       "      <th>Gender</th>\n",
       "      <th>Age</th>\n",
       "      <th>Tenure</th>\n",
       "      <th>Balance</th>\n",
       "      <th>NumOfProducts</th>\n",
       "      <th>HasCrCard</th>\n",
       "      <th>IsActiveMember</th>\n",
       "      <th>EstimatedSalary</th>\n",
       "    </tr>\n",
       "  </thead>\n",
       "  <tbody>\n",
       "    <tr>\n",
       "      <th>0</th>\n",
       "      <td>668</td>\n",
       "      <td>France</td>\n",
       "      <td>Male</td>\n",
       "      <td>33.0</td>\n",
       "      <td>3</td>\n",
       "      <td>0.00</td>\n",
       "      <td>2</td>\n",
       "      <td>1.0</td>\n",
       "      <td>0.0</td>\n",
       "      <td>181449.97</td>\n",
       "    </tr>\n",
       "    <tr>\n",
       "      <th>1</th>\n",
       "      <td>627</td>\n",
       "      <td>France</td>\n",
       "      <td>Male</td>\n",
       "      <td>33.0</td>\n",
       "      <td>1</td>\n",
       "      <td>0.00</td>\n",
       "      <td>2</td>\n",
       "      <td>1.0</td>\n",
       "      <td>1.0</td>\n",
       "      <td>49503.50</td>\n",
       "    </tr>\n",
       "    <tr>\n",
       "      <th>2</th>\n",
       "      <td>678</td>\n",
       "      <td>France</td>\n",
       "      <td>Male</td>\n",
       "      <td>40.0</td>\n",
       "      <td>10</td>\n",
       "      <td>0.00</td>\n",
       "      <td>2</td>\n",
       "      <td>1.0</td>\n",
       "      <td>0.0</td>\n",
       "      <td>184866.69</td>\n",
       "    </tr>\n",
       "    <tr>\n",
       "      <th>3</th>\n",
       "      <td>581</td>\n",
       "      <td>France</td>\n",
       "      <td>Male</td>\n",
       "      <td>34.0</td>\n",
       "      <td>2</td>\n",
       "      <td>148882.54</td>\n",
       "      <td>1</td>\n",
       "      <td>1.0</td>\n",
       "      <td>1.0</td>\n",
       "      <td>84560.88</td>\n",
       "    </tr>\n",
       "    <tr>\n",
       "      <th>4</th>\n",
       "      <td>716</td>\n",
       "      <td>Spain</td>\n",
       "      <td>Male</td>\n",
       "      <td>33.0</td>\n",
       "      <td>5</td>\n",
       "      <td>0.00</td>\n",
       "      <td>2</td>\n",
       "      <td>1.0</td>\n",
       "      <td>1.0</td>\n",
       "      <td>15068.83</td>\n",
       "    </tr>\n",
       "  </tbody>\n",
       "</table>\n",
       "</div>"
      ],
      "text/plain": [
       "   CreditScore Geography Gender   Age  Tenure    Balance  NumOfProducts  \\\n",
       "0          668    France   Male  33.0       3       0.00              2   \n",
       "1          627    France   Male  33.0       1       0.00              2   \n",
       "2          678    France   Male  40.0      10       0.00              2   \n",
       "3          581    France   Male  34.0       2  148882.54              1   \n",
       "4          716     Spain   Male  33.0       5       0.00              2   \n",
       "\n",
       "   HasCrCard  IsActiveMember  EstimatedSalary  \n",
       "0        1.0             0.0        181449.97  \n",
       "1        1.0             1.0         49503.50  \n",
       "2        1.0             0.0        184866.69  \n",
       "3        1.0             1.0         84560.88  \n",
       "4        1.0             1.0         15068.83  "
      ]
     },
     "execution_count": 8,
     "metadata": {},
     "output_type": "execute_result"
    }
   ],
   "source": [
    "x = train.iloc[:,3:-1]\n",
    "x.head()"
   ]
  },
  {
   "cell_type": "code",
   "execution_count": 9,
   "id": "f4a94e7e",
   "metadata": {
    "execution": {
     "iopub.execute_input": "2024-07-15T20:41:10.299033Z",
     "iopub.status.busy": "2024-07-15T20:41:10.298274Z",
     "iopub.status.idle": "2024-07-15T20:41:10.381532Z",
     "shell.execute_reply": "2024-07-15T20:41:10.380417Z"
    },
    "papermill": {
     "duration": 0.095322,
     "end_time": "2024-07-15T20:41:10.384430",
     "exception": false,
     "start_time": "2024-07-15T20:41:10.289108",
     "status": "completed"
    },
    "tags": []
   },
   "outputs": [
    {
     "data": {
      "text/html": [
       "<div>\n",
       "<style scoped>\n",
       "    .dataframe tbody tr th:only-of-type {\n",
       "        vertical-align: middle;\n",
       "    }\n",
       "\n",
       "    .dataframe tbody tr th {\n",
       "        vertical-align: top;\n",
       "    }\n",
       "\n",
       "    .dataframe thead th {\n",
       "        text-align: right;\n",
       "    }\n",
       "</style>\n",
       "<table border=\"1\" class=\"dataframe\">\n",
       "  <thead>\n",
       "    <tr style=\"text-align: right;\">\n",
       "      <th></th>\n",
       "      <th>CreditScore</th>\n",
       "      <th>Age</th>\n",
       "      <th>Tenure</th>\n",
       "      <th>Balance</th>\n",
       "      <th>NumOfProducts</th>\n",
       "      <th>HasCrCard</th>\n",
       "      <th>IsActiveMember</th>\n",
       "      <th>EstimatedSalary</th>\n",
       "    </tr>\n",
       "  </thead>\n",
       "  <tbody>\n",
       "    <tr>\n",
       "      <th>count</th>\n",
       "      <td>165034.000000</td>\n",
       "      <td>165034.000000</td>\n",
       "      <td>165034.000000</td>\n",
       "      <td>165034.000000</td>\n",
       "      <td>165034.000000</td>\n",
       "      <td>165034.000000</td>\n",
       "      <td>165034.000000</td>\n",
       "      <td>165034.000000</td>\n",
       "    </tr>\n",
       "    <tr>\n",
       "      <th>mean</th>\n",
       "      <td>656.454373</td>\n",
       "      <td>38.125888</td>\n",
       "      <td>5.020353</td>\n",
       "      <td>55478.086689</td>\n",
       "      <td>1.554455</td>\n",
       "      <td>0.753954</td>\n",
       "      <td>0.497770</td>\n",
       "      <td>112574.822734</td>\n",
       "    </tr>\n",
       "    <tr>\n",
       "      <th>std</th>\n",
       "      <td>80.103340</td>\n",
       "      <td>8.867205</td>\n",
       "      <td>2.806159</td>\n",
       "      <td>62817.663278</td>\n",
       "      <td>0.547154</td>\n",
       "      <td>0.430707</td>\n",
       "      <td>0.499997</td>\n",
       "      <td>50292.865585</td>\n",
       "    </tr>\n",
       "    <tr>\n",
       "      <th>min</th>\n",
       "      <td>350.000000</td>\n",
       "      <td>18.000000</td>\n",
       "      <td>0.000000</td>\n",
       "      <td>0.000000</td>\n",
       "      <td>1.000000</td>\n",
       "      <td>0.000000</td>\n",
       "      <td>0.000000</td>\n",
       "      <td>11.580000</td>\n",
       "    </tr>\n",
       "    <tr>\n",
       "      <th>25%</th>\n",
       "      <td>597.000000</td>\n",
       "      <td>32.000000</td>\n",
       "      <td>3.000000</td>\n",
       "      <td>0.000000</td>\n",
       "      <td>1.000000</td>\n",
       "      <td>1.000000</td>\n",
       "      <td>0.000000</td>\n",
       "      <td>74637.570000</td>\n",
       "    </tr>\n",
       "    <tr>\n",
       "      <th>50%</th>\n",
       "      <td>659.000000</td>\n",
       "      <td>37.000000</td>\n",
       "      <td>5.000000</td>\n",
       "      <td>0.000000</td>\n",
       "      <td>2.000000</td>\n",
       "      <td>1.000000</td>\n",
       "      <td>0.000000</td>\n",
       "      <td>117948.000000</td>\n",
       "    </tr>\n",
       "    <tr>\n",
       "      <th>75%</th>\n",
       "      <td>710.000000</td>\n",
       "      <td>42.000000</td>\n",
       "      <td>7.000000</td>\n",
       "      <td>119939.517500</td>\n",
       "      <td>2.000000</td>\n",
       "      <td>1.000000</td>\n",
       "      <td>1.000000</td>\n",
       "      <td>155152.467500</td>\n",
       "    </tr>\n",
       "    <tr>\n",
       "      <th>max</th>\n",
       "      <td>850.000000</td>\n",
       "      <td>92.000000</td>\n",
       "      <td>10.000000</td>\n",
       "      <td>250898.090000</td>\n",
       "      <td>4.000000</td>\n",
       "      <td>1.000000</td>\n",
       "      <td>1.000000</td>\n",
       "      <td>199992.480000</td>\n",
       "    </tr>\n",
       "  </tbody>\n",
       "</table>\n",
       "</div>"
      ],
      "text/plain": [
       "         CreditScore            Age         Tenure        Balance  \\\n",
       "count  165034.000000  165034.000000  165034.000000  165034.000000   \n",
       "mean      656.454373      38.125888       5.020353   55478.086689   \n",
       "std        80.103340       8.867205       2.806159   62817.663278   \n",
       "min       350.000000      18.000000       0.000000       0.000000   \n",
       "25%       597.000000      32.000000       3.000000       0.000000   \n",
       "50%       659.000000      37.000000       5.000000       0.000000   \n",
       "75%       710.000000      42.000000       7.000000  119939.517500   \n",
       "max       850.000000      92.000000      10.000000  250898.090000   \n",
       "\n",
       "       NumOfProducts      HasCrCard  IsActiveMember  EstimatedSalary  \n",
       "count  165034.000000  165034.000000   165034.000000    165034.000000  \n",
       "mean        1.554455       0.753954        0.497770    112574.822734  \n",
       "std         0.547154       0.430707        0.499997     50292.865585  \n",
       "min         1.000000       0.000000        0.000000        11.580000  \n",
       "25%         1.000000       1.000000        0.000000     74637.570000  \n",
       "50%         2.000000       1.000000        0.000000    117948.000000  \n",
       "75%         2.000000       1.000000        1.000000    155152.467500  \n",
       "max         4.000000       1.000000        1.000000    199992.480000  "
      ]
     },
     "execution_count": 9,
     "metadata": {},
     "output_type": "execute_result"
    }
   ],
   "source": [
    "x.describe()"
   ]
  },
  {
   "cell_type": "code",
   "execution_count": 10,
   "id": "385d822b",
   "metadata": {
    "execution": {
     "iopub.execute_input": "2024-07-15T20:41:10.402685Z",
     "iopub.status.busy": "2024-07-15T20:41:10.401879Z",
     "iopub.status.idle": "2024-07-15T20:41:10.438132Z",
     "shell.execute_reply": "2024-07-15T20:41:10.437040Z"
    },
    "papermill": {
     "duration": 0.048006,
     "end_time": "2024-07-15T20:41:10.440611",
     "exception": false,
     "start_time": "2024-07-15T20:41:10.392605",
     "status": "completed"
    },
    "tags": []
   },
   "outputs": [
    {
     "data": {
      "text/plain": [
       "Geography\n",
       "France     94215\n",
       "Spain      36213\n",
       "Germany    34606\n",
       "Name: count, dtype: int64"
      ]
     },
     "execution_count": 10,
     "metadata": {},
     "output_type": "execute_result"
    }
   ],
   "source": [
    "x['Geography'].value_counts()"
   ]
  },
  {
   "cell_type": "code",
   "execution_count": 11,
   "id": "612afca7",
   "metadata": {
    "execution": {
     "iopub.execute_input": "2024-07-15T20:41:10.459722Z",
     "iopub.status.busy": "2024-07-15T20:41:10.458943Z",
     "iopub.status.idle": "2024-07-15T20:41:10.467237Z",
     "shell.execute_reply": "2024-07-15T20:41:10.465713Z"
    },
    "papermill": {
     "duration": 0.020747,
     "end_time": "2024-07-15T20:41:10.470097",
     "exception": false,
     "start_time": "2024-07-15T20:41:10.449350",
     "status": "completed"
    },
    "tags": []
   },
   "outputs": [
    {
     "data": {
      "text/plain": [
       "0    0\n",
       "1    0\n",
       "2    0\n",
       "3    0\n",
       "4    0\n",
       "Name: Exited, dtype: int64"
      ]
     },
     "execution_count": 11,
     "metadata": {},
     "output_type": "execute_result"
    }
   ],
   "source": [
    "y = train.iloc[:,-1]\n",
    "y.head()"
   ]
  },
  {
   "cell_type": "markdown",
   "id": "5dda3d9f",
   "metadata": {
    "papermill": {
     "duration": 0.009144,
     "end_time": "2024-07-15T20:41:10.487806",
     "exception": false,
     "start_time": "2024-07-15T20:41:10.478662",
     "status": "completed"
    },
    "tags": []
   },
   "source": [
    "> # **Preprocessing**"
   ]
  },
  {
   "cell_type": "code",
   "execution_count": 12,
   "id": "04f74dae",
   "metadata": {
    "execution": {
     "iopub.execute_input": "2024-07-15T20:41:10.506110Z",
     "iopub.status.busy": "2024-07-15T20:41:10.505704Z",
     "iopub.status.idle": "2024-07-15T20:41:11.567058Z",
     "shell.execute_reply": "2024-07-15T20:41:11.565894Z"
    },
    "papermill": {
     "duration": 1.073784,
     "end_time": "2024-07-15T20:41:11.569927",
     "exception": false,
     "start_time": "2024-07-15T20:41:10.496143",
     "status": "completed"
    },
    "tags": []
   },
   "outputs": [],
   "source": [
    "from sklearn.preprocessing import StandardScaler, OneHotEncoder, OrdinalEncoder\n",
    "from sklearn.compose import ColumnTransformer"
   ]
  },
  {
   "cell_type": "code",
   "execution_count": 13,
   "id": "6a526e01",
   "metadata": {
    "execution": {
     "iopub.execute_input": "2024-07-15T20:41:11.589248Z",
     "iopub.status.busy": "2024-07-15T20:41:11.588790Z",
     "iopub.status.idle": "2024-07-15T20:41:11.595658Z",
     "shell.execute_reply": "2024-07-15T20:41:11.594309Z"
    },
    "papermill": {
     "duration": 0.019085,
     "end_time": "2024-07-15T20:41:11.597996",
     "exception": false,
     "start_time": "2024-07-15T20:41:11.578911",
     "status": "completed"
    },
    "tags": []
   },
   "outputs": [],
   "source": [
    "column_transformer = ColumnTransformer(\n",
    "    transformers=[\n",
    "        ('ord_en', OrdinalEncoder(), ['Gender']),\n",
    "        ('One_hot_en', OneHotEncoder(), ['Geography']),\n",
    "        ('std_scl', StandardScaler(), ['Balance']),\n",
    "        ('Std_scl',StandardScaler(), ['EstimatedSalary'])\n",
    "    ],remainder='passthrough')"
   ]
  },
  {
   "cell_type": "code",
   "execution_count": 14,
   "id": "8c568e80",
   "metadata": {
    "execution": {
     "iopub.execute_input": "2024-07-15T20:41:11.616801Z",
     "iopub.status.busy": "2024-07-15T20:41:11.616010Z",
     "iopub.status.idle": "2024-07-15T20:41:11.795219Z",
     "shell.execute_reply": "2024-07-15T20:41:11.794214Z"
    },
    "papermill": {
     "duration": 0.191239,
     "end_time": "2024-07-15T20:41:11.797762",
     "exception": false,
     "start_time": "2024-07-15T20:41:11.606523",
     "status": "completed"
    },
    "tags": []
   },
   "outputs": [
    {
     "data": {
      "text/html": [
       "<div>\n",
       "<style scoped>\n",
       "    .dataframe tbody tr th:only-of-type {\n",
       "        vertical-align: middle;\n",
       "    }\n",
       "\n",
       "    .dataframe tbody tr th {\n",
       "        vertical-align: top;\n",
       "    }\n",
       "\n",
       "    .dataframe thead th {\n",
       "        text-align: right;\n",
       "    }\n",
       "</style>\n",
       "<table border=\"1\" class=\"dataframe\">\n",
       "  <thead>\n",
       "    <tr style=\"text-align: right;\">\n",
       "      <th></th>\n",
       "      <th>Gender</th>\n",
       "      <th>Geography_France</th>\n",
       "      <th>Geography_Germany</th>\n",
       "      <th>Geography_Spain</th>\n",
       "      <th>Balance</th>\n",
       "      <th>EstimatedSalary</th>\n",
       "      <th>CreditScore</th>\n",
       "      <th>Age</th>\n",
       "      <th>Tenure</th>\n",
       "      <th>NumOfProducts</th>\n",
       "      <th>HasCrCard</th>\n",
       "      <th>IsActiveMember</th>\n",
       "    </tr>\n",
       "  </thead>\n",
       "  <tbody>\n",
       "    <tr>\n",
       "      <th>0</th>\n",
       "      <td>1.0</td>\n",
       "      <td>1.0</td>\n",
       "      <td>0.0</td>\n",
       "      <td>0.0</td>\n",
       "      <td>-0.883163</td>\n",
       "      <td>1.369486</td>\n",
       "      <td>668.0</td>\n",
       "      <td>33.0</td>\n",
       "      <td>3.0</td>\n",
       "      <td>2.0</td>\n",
       "      <td>1.0</td>\n",
       "      <td>0.0</td>\n",
       "    </tr>\n",
       "    <tr>\n",
       "      <th>1</th>\n",
       "      <td>1.0</td>\n",
       "      <td>1.0</td>\n",
       "      <td>0.0</td>\n",
       "      <td>0.0</td>\n",
       "      <td>-0.883163</td>\n",
       "      <td>-1.254085</td>\n",
       "      <td>627.0</td>\n",
       "      <td>33.0</td>\n",
       "      <td>1.0</td>\n",
       "      <td>2.0</td>\n",
       "      <td>1.0</td>\n",
       "      <td>1.0</td>\n",
       "    </tr>\n",
       "    <tr>\n",
       "      <th>2</th>\n",
       "      <td>1.0</td>\n",
       "      <td>1.0</td>\n",
       "      <td>0.0</td>\n",
       "      <td>0.0</td>\n",
       "      <td>-0.883163</td>\n",
       "      <td>1.437422</td>\n",
       "      <td>678.0</td>\n",
       "      <td>40.0</td>\n",
       "      <td>10.0</td>\n",
       "      <td>2.0</td>\n",
       "      <td>1.0</td>\n",
       "      <td>0.0</td>\n",
       "    </tr>\n",
       "    <tr>\n",
       "      <th>3</th>\n",
       "      <td>1.0</td>\n",
       "      <td>1.0</td>\n",
       "      <td>0.0</td>\n",
       "      <td>0.0</td>\n",
       "      <td>1.486918</td>\n",
       "      <td>-0.557018</td>\n",
       "      <td>581.0</td>\n",
       "      <td>34.0</td>\n",
       "      <td>2.0</td>\n",
       "      <td>1.0</td>\n",
       "      <td>1.0</td>\n",
       "      <td>1.0</td>\n",
       "    </tr>\n",
       "    <tr>\n",
       "      <th>4</th>\n",
       "      <td>1.0</td>\n",
       "      <td>0.0</td>\n",
       "      <td>0.0</td>\n",
       "      <td>1.0</td>\n",
       "      <td>-0.883163</td>\n",
       "      <td>-1.938770</td>\n",
       "      <td>716.0</td>\n",
       "      <td>33.0</td>\n",
       "      <td>5.0</td>\n",
       "      <td>2.0</td>\n",
       "      <td>1.0</td>\n",
       "      <td>1.0</td>\n",
       "    </tr>\n",
       "  </tbody>\n",
       "</table>\n",
       "</div>"
      ],
      "text/plain": [
       "   Gender  Geography_France  Geography_Germany  Geography_Spain   Balance  \\\n",
       "0     1.0               1.0                0.0              0.0 -0.883163   \n",
       "1     1.0               1.0                0.0              0.0 -0.883163   \n",
       "2     1.0               1.0                0.0              0.0 -0.883163   \n",
       "3     1.0               1.0                0.0              0.0  1.486918   \n",
       "4     1.0               0.0                0.0              1.0 -0.883163   \n",
       "\n",
       "   EstimatedSalary  CreditScore   Age  Tenure  NumOfProducts  HasCrCard  \\\n",
       "0         1.369486        668.0  33.0     3.0            2.0        1.0   \n",
       "1        -1.254085        627.0  33.0     1.0            2.0        1.0   \n",
       "2         1.437422        678.0  40.0    10.0            2.0        1.0   \n",
       "3        -0.557018        581.0  34.0     2.0            1.0        1.0   \n",
       "4        -1.938770        716.0  33.0     5.0            2.0        1.0   \n",
       "\n",
       "   IsActiveMember  \n",
       "0             0.0  \n",
       "1             1.0  \n",
       "2             0.0  \n",
       "3             1.0  \n",
       "4             1.0  "
      ]
     },
     "execution_count": 14,
     "metadata": {},
     "output_type": "execute_result"
    }
   ],
   "source": [
    "x_trf = column_transformer.fit_transform(x)\n",
    "one_hot_columns = column_transformer.named_transformers_['One_hot_en'].get_feature_names_out(['Geography'])\n",
    "\n",
    "# Combine all column names\n",
    "column_names = ['Gender'] + list(one_hot_columns) + ['Balance', 'EstimatedSalary'] +  ['CreditScore', 'Age', 'Tenure', 'NumOfProducts', 'HasCrCard', 'IsActiveMember']\n",
    "\n",
    "# Convert the transformed data to a DataFrame\n",
    "x_trf= pd.DataFrame(x_trf, columns=column_names)\n",
    "\n",
    "x_trf.head()"
   ]
  },
  {
   "cell_type": "code",
   "execution_count": 15,
   "id": "b4b64398",
   "metadata": {
    "execution": {
     "iopub.execute_input": "2024-07-15T20:41:11.818151Z",
     "iopub.status.busy": "2024-07-15T20:41:11.817116Z",
     "iopub.status.idle": "2024-07-15T20:41:11.932599Z",
     "shell.execute_reply": "2024-07-15T20:41:11.931637Z"
    },
    "papermill": {
     "duration": 0.127835,
     "end_time": "2024-07-15T20:41:11.935057",
     "exception": false,
     "start_time": "2024-07-15T20:41:11.807222",
     "status": "completed"
    },
    "tags": []
   },
   "outputs": [
    {
     "data": {
      "text/html": [
       "<div>\n",
       "<style scoped>\n",
       "    .dataframe tbody tr th:only-of-type {\n",
       "        vertical-align: middle;\n",
       "    }\n",
       "\n",
       "    .dataframe tbody tr th {\n",
       "        vertical-align: top;\n",
       "    }\n",
       "\n",
       "    .dataframe thead th {\n",
       "        text-align: right;\n",
       "    }\n",
       "</style>\n",
       "<table border=\"1\" class=\"dataframe\">\n",
       "  <thead>\n",
       "    <tr style=\"text-align: right;\">\n",
       "      <th></th>\n",
       "      <th>Gender</th>\n",
       "      <th>Geography_France</th>\n",
       "      <th>Geography_Germany</th>\n",
       "      <th>Geography_Spain</th>\n",
       "      <th>Balance</th>\n",
       "      <th>EstimatedSalary</th>\n",
       "      <th>CreditScore</th>\n",
       "      <th>Age</th>\n",
       "      <th>Tenure</th>\n",
       "      <th>NumOfProducts</th>\n",
       "      <th>HasCrCard</th>\n",
       "      <th>IsActiveMember</th>\n",
       "    </tr>\n",
       "  </thead>\n",
       "  <tbody>\n",
       "    <tr>\n",
       "      <th>0</th>\n",
       "      <td>0.0</td>\n",
       "      <td>1.0</td>\n",
       "      <td>0.0</td>\n",
       "      <td>0.0</td>\n",
       "      <td>-0.883163</td>\n",
       "      <td>0.962404</td>\n",
       "      <td>586.0</td>\n",
       "      <td>23.0</td>\n",
       "      <td>2.0</td>\n",
       "      <td>2.0</td>\n",
       "      <td>0.0</td>\n",
       "      <td>1.0</td>\n",
       "    </tr>\n",
       "    <tr>\n",
       "      <th>1</th>\n",
       "      <td>0.0</td>\n",
       "      <td>1.0</td>\n",
       "      <td>0.0</td>\n",
       "      <td>0.0</td>\n",
       "      <td>-0.883163</td>\n",
       "      <td>-0.795852</td>\n",
       "      <td>683.0</td>\n",
       "      <td>46.0</td>\n",
       "      <td>2.0</td>\n",
       "      <td>1.0</td>\n",
       "      <td>1.0</td>\n",
       "      <td>0.0</td>\n",
       "    </tr>\n",
       "    <tr>\n",
       "      <th>2</th>\n",
       "      <td>0.0</td>\n",
       "      <td>1.0</td>\n",
       "      <td>0.0</td>\n",
       "      <td>0.0</td>\n",
       "      <td>-0.883163</td>\n",
       "      <td>0.523083</td>\n",
       "      <td>656.0</td>\n",
       "      <td>34.0</td>\n",
       "      <td>7.0</td>\n",
       "      <td>2.0</td>\n",
       "      <td>1.0</td>\n",
       "      <td>0.0</td>\n",
       "    </tr>\n",
       "    <tr>\n",
       "      <th>3</th>\n",
       "      <td>1.0</td>\n",
       "      <td>1.0</td>\n",
       "      <td>0.0</td>\n",
       "      <td>0.0</td>\n",
       "      <td>-0.883163</td>\n",
       "      <td>0.026977</td>\n",
       "      <td>681.0</td>\n",
       "      <td>36.0</td>\n",
       "      <td>8.0</td>\n",
       "      <td>1.0</td>\n",
       "      <td>1.0</td>\n",
       "      <td>0.0</td>\n",
       "    </tr>\n",
       "    <tr>\n",
       "      <th>4</th>\n",
       "      <td>1.0</td>\n",
       "      <td>0.0</td>\n",
       "      <td>1.0</td>\n",
       "      <td>0.0</td>\n",
       "      <td>1.047249</td>\n",
       "      <td>0.533997</td>\n",
       "      <td>752.0</td>\n",
       "      <td>38.0</td>\n",
       "      <td>10.0</td>\n",
       "      <td>1.0</td>\n",
       "      <td>1.0</td>\n",
       "      <td>0.0</td>\n",
       "    </tr>\n",
       "  </tbody>\n",
       "</table>\n",
       "</div>"
      ],
      "text/plain": [
       "   Gender  Geography_France  Geography_Germany  Geography_Spain   Balance  \\\n",
       "0     0.0               1.0                0.0              0.0 -0.883163   \n",
       "1     0.0               1.0                0.0              0.0 -0.883163   \n",
       "2     0.0               1.0                0.0              0.0 -0.883163   \n",
       "3     1.0               1.0                0.0              0.0 -0.883163   \n",
       "4     1.0               0.0                1.0              0.0  1.047249   \n",
       "\n",
       "   EstimatedSalary  CreditScore   Age  Tenure  NumOfProducts  HasCrCard  \\\n",
       "0         0.962404        586.0  23.0     2.0            2.0        0.0   \n",
       "1        -0.795852        683.0  46.0     2.0            1.0        1.0   \n",
       "2         0.523083        656.0  34.0     7.0            2.0        1.0   \n",
       "3         0.026977        681.0  36.0     8.0            1.0        1.0   \n",
       "4         0.533997        752.0  38.0    10.0            1.0        1.0   \n",
       "\n",
       "   IsActiveMember  \n",
       "0             1.0  \n",
       "1             0.0  \n",
       "2             0.0  \n",
       "3             0.0  \n",
       "4             0.0  "
      ]
     },
     "execution_count": 15,
     "metadata": {},
     "output_type": "execute_result"
    }
   ],
   "source": [
    "test_trf = column_transformer.transform(test)\n",
    "one_hot_columns = column_transformer.named_transformers_['One_hot_en'].get_feature_names_out(['Geography'])\n",
    "\n",
    "# Combine all column names\n",
    "column_names = ['Gender'] + list(one_hot_columns) + ['Balance', 'EstimatedSalary'] +  ['CreditScore', 'Age', 'Tenure', 'NumOfProducts', 'HasCrCard', 'IsActiveMember']\n",
    "\n",
    "# Convert the transformed data to a DataFrame\n",
    "test_trf= pd.DataFrame(test_trf, columns=column_names)\n",
    "\n",
    "test_trf.head()"
   ]
  },
  {
   "cell_type": "code",
   "execution_count": 16,
   "id": "4fc920bb",
   "metadata": {
    "execution": {
     "iopub.execute_input": "2024-07-15T20:41:11.953341Z",
     "iopub.status.busy": "2024-07-15T20:41:11.953020Z",
     "iopub.status.idle": "2024-07-15T20:41:12.040409Z",
     "shell.execute_reply": "2024-07-15T20:41:12.039437Z"
    },
    "papermill": {
     "duration": 0.099482,
     "end_time": "2024-07-15T20:41:12.043085",
     "exception": false,
     "start_time": "2024-07-15T20:41:11.943603",
     "status": "completed"
    },
    "tags": []
   },
   "outputs": [],
   "source": [
    "from sklearn.model_selection import train_test_split"
   ]
  },
  {
   "cell_type": "code",
   "execution_count": 17,
   "id": "0cd9a78e",
   "metadata": {
    "execution": {
     "iopub.execute_input": "2024-07-15T20:41:12.062870Z",
     "iopub.status.busy": "2024-07-15T20:41:12.062030Z",
     "iopub.status.idle": "2024-07-15T20:41:12.087298Z",
     "shell.execute_reply": "2024-07-15T20:41:12.086407Z"
    },
    "papermill": {
     "duration": 0.038082,
     "end_time": "2024-07-15T20:41:12.090243",
     "exception": false,
     "start_time": "2024-07-15T20:41:12.052161",
     "status": "completed"
    },
    "tags": []
   },
   "outputs": [],
   "source": [
    "x_train,x_test,y_train,y_test = train_test_split(x_trf,y,test_size=0.25,random_state=42)"
   ]
  },
  {
   "cell_type": "code",
   "execution_count": 18,
   "id": "feeeac40",
   "metadata": {
    "execution": {
     "iopub.execute_input": "2024-07-15T20:41:12.109650Z",
     "iopub.status.busy": "2024-07-15T20:41:12.108766Z",
     "iopub.status.idle": "2024-07-15T20:41:12.115185Z",
     "shell.execute_reply": "2024-07-15T20:41:12.114241Z"
    },
    "papermill": {
     "duration": 0.018658,
     "end_time": "2024-07-15T20:41:12.117619",
     "exception": false,
     "start_time": "2024-07-15T20:41:12.098961",
     "status": "completed"
    },
    "tags": []
   },
   "outputs": [
    {
     "data": {
      "text/plain": [
       "(123775,)"
      ]
     },
     "execution_count": 18,
     "metadata": {},
     "output_type": "execute_result"
    }
   ],
   "source": [
    "y_train.shape"
   ]
  },
  {
   "cell_type": "code",
   "execution_count": 19,
   "id": "00ffea33",
   "metadata": {
    "execution": {
     "iopub.execute_input": "2024-07-15T20:41:12.137374Z",
     "iopub.status.busy": "2024-07-15T20:41:12.137008Z",
     "iopub.status.idle": "2024-07-15T20:45:08.567394Z",
     "shell.execute_reply": "2024-07-15T20:45:08.566362Z"
    },
    "papermill": {
     "duration": 236.45228,
     "end_time": "2024-07-15T20:45:08.579208",
     "exception": false,
     "start_time": "2024-07-15T20:41:12.126928",
     "status": "completed"
    },
    "tags": []
   },
   "outputs": [
    {
     "name": "stdout",
     "output_type": "stream",
     "text": [
      "accuracy  0.8599820645192564\n"
     ]
    }
   ],
   "source": [
    "from sklearn.metrics import accuracy_score\n",
    "from sklearn.ensemble import RandomForestClassifier\n",
    "dt = RandomForestClassifier(n_estimators=1000)\n",
    "dt.fit(x_train,y_train)\n",
    "\n",
    "y_pred = dt.predict(x_test)\n",
    "print('accuracy ', accuracy_score(y_test,y_pred))"
   ]
  },
  {
   "cell_type": "code",
   "execution_count": 20,
   "id": "b14f10f3",
   "metadata": {
    "execution": {
     "iopub.execute_input": "2024-07-15T20:45:08.599588Z",
     "iopub.status.busy": "2024-07-15T20:45:08.598640Z",
     "iopub.status.idle": "2024-07-15T20:45:36.882413Z",
     "shell.execute_reply": "2024-07-15T20:45:36.881390Z"
    },
    "papermill": {
     "duration": 28.296618,
     "end_time": "2024-07-15T20:45:36.884847",
     "exception": false,
     "start_time": "2024-07-15T20:45:08.588229",
     "status": "completed"
    },
    "tags": []
   },
   "outputs": [
    {
     "data": {
      "text/html": [
       "<div>\n",
       "<style scoped>\n",
       "    .dataframe tbody tr th:only-of-type {\n",
       "        vertical-align: middle;\n",
       "    }\n",
       "\n",
       "    .dataframe tbody tr th {\n",
       "        vertical-align: top;\n",
       "    }\n",
       "\n",
       "    .dataframe thead th {\n",
       "        text-align: right;\n",
       "    }\n",
       "</style>\n",
       "<table border=\"1\" class=\"dataframe\">\n",
       "  <thead>\n",
       "    <tr style=\"text-align: right;\">\n",
       "      <th></th>\n",
       "      <th>id</th>\n",
       "      <th>Exited</th>\n",
       "    </tr>\n",
       "  </thead>\n",
       "  <tbody>\n",
       "    <tr>\n",
       "      <th>0</th>\n",
       "      <td>165034</td>\n",
       "      <td>0</td>\n",
       "    </tr>\n",
       "    <tr>\n",
       "      <th>1</th>\n",
       "      <td>165035</td>\n",
       "      <td>1</td>\n",
       "    </tr>\n",
       "    <tr>\n",
       "      <th>2</th>\n",
       "      <td>165036</td>\n",
       "      <td>0</td>\n",
       "    </tr>\n",
       "    <tr>\n",
       "      <th>3</th>\n",
       "      <td>165037</td>\n",
       "      <td>0</td>\n",
       "    </tr>\n",
       "    <tr>\n",
       "      <th>4</th>\n",
       "      <td>165038</td>\n",
       "      <td>0</td>\n",
       "    </tr>\n",
       "  </tbody>\n",
       "</table>\n",
       "</div>"
      ],
      "text/plain": [
       "       id  Exited\n",
       "0  165034       0\n",
       "1  165035       1\n",
       "2  165036       0\n",
       "3  165037       0\n",
       "4  165038       0"
      ]
     },
     "execution_count": 20,
     "metadata": {},
     "output_type": "execute_result"
    }
   ],
   "source": [
    "y_pred = dt.predict(test_trf)\n",
    "\n",
    "submission_df = pd.DataFrame({\n",
    "    'id': test['id'],\n",
    "    'Exited': y_pred  \n",
    "})\n",
    "submission_df.head()"
   ]
  },
  {
   "cell_type": "code",
   "execution_count": 21,
   "id": "06d4403b",
   "metadata": {
    "execution": {
     "iopub.execute_input": "2024-07-15T20:45:36.905655Z",
     "iopub.status.busy": "2024-07-15T20:45:36.904790Z",
     "iopub.status.idle": "2024-07-15T20:45:37.044041Z",
     "shell.execute_reply": "2024-07-15T20:45:37.042967Z"
    },
    "papermill": {
     "duration": 0.152503,
     "end_time": "2024-07-15T20:45:37.046927",
     "exception": false,
     "start_time": "2024-07-15T20:45:36.894424",
     "status": "completed"
    },
    "tags": []
   },
   "outputs": [],
   "source": [
    "submission_df.to_csv('Decision_Tree_output.csv', index=False)"
   ]
  }
 ],
 "metadata": {
  "kaggle": {
   "accelerator": "none",
   "dataSources": [
    {
     "databundleVersionId": 7405009,
     "sourceId": 65711,
     "sourceType": "competition"
    }
   ],
   "dockerImageVersionId": 30746,
   "isGpuEnabled": false,
   "isInternetEnabled": true,
   "language": "python",
   "sourceType": "notebook"
  },
  "kernelspec": {
   "display_name": "Python 3",
   "language": "python",
   "name": "python3"
  },
  "language_info": {
   "codemirror_mode": {
    "name": "ipython",
    "version": 3
   },
   "file_extension": ".py",
   "mimetype": "text/x-python",
   "name": "python",
   "nbconvert_exporter": "python",
   "pygments_lexer": "ipython3",
   "version": "3.12.0"
  },
  "papermill": {
   "default_parameters": {},
   "duration": 272.584286,
   "end_time": "2024-07-15T20:45:37.880025",
   "environment_variables": {},
   "exception": null,
   "input_path": "__notebook__.ipynb",
   "output_path": "__notebook__.ipynb",
   "parameters": {},
   "start_time": "2024-07-15T20:41:05.295739",
   "version": "2.5.0"
  }
 },
 "nbformat": 4,
 "nbformat_minor": 5
}
